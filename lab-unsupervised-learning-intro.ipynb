{
 "cells": [
  {
   "cell_type": "markdown",
   "id": "f05442b0-9f01-45b4-9ecb-38d91a60c9ad",
   "metadata": {},
   "source": [
    "# lab-unsupervised-learning-intro"
   ]
  },
  {
   "cell_type": "code",
   "execution_count": 1,
   "id": "b323e622-f285-4463-8266-68a7f35ddcfd",
   "metadata": {},
   "outputs": [],
   "source": [
    "# You want to send the Spotify audio features of the submitted song to the clustering model, which should return a cluster number.\n",
    "    # My task now is to cluster the songs from my songs_all csv (with audio features)\n",
    "    # Cluster all the songs (Use K-mean clustering it has the preddict function for new and unseen songs)\n",
    "        # each song will come out with a cluster number\n",
    "        # match up the cluster number with the song title\n",
    "        # Use your model on a single soong (do not refit it, do not recluster anything)\n",
    "            # Cluster this one song that was input in your song recommender (assign to cluster X)\n",
    "        # Ia m not going to check if the inout song is actually in my songs_all, I just recommend a similar one according to the audio features"
   ]
  },
  {
   "cell_type": "code",
   "execution_count": null,
   "id": "bee2e2e5-3550-494a-9299-6fee8a4051e0",
   "metadata": {},
   "outputs": [],
   "source": []
  },
  {
   "cell_type": "code",
   "execution_count": 2,
   "id": "cd9b6117-708f-4b34-a79e-4ac80e8c083e",
   "metadata": {},
   "outputs": [],
   "source": [
    "import pandas as pd"
   ]
  },
  {
   "cell_type": "markdown",
   "id": "c596c0e4-b75b-4684-8c08-13893ec1baa0",
   "metadata": {},
   "source": [
    "Establish the connection to Spotify"
   ]
  },
  {
   "cell_type": "code",
   "execution_count": 3,
   "id": "11dd26cd-ab6f-44da-9091-ca47cac4935d",
   "metadata": {},
   "outputs": [],
   "source": [
    "import spotipy\n",
    "from spotipy.oauth2 import SpotifyClientCredentials"
   ]
  },
  {
   "cell_type": "code",
   "execution_count": 4,
   "id": "5a6ada30-1094-42e8-a73c-2e9a6e36f273",
   "metadata": {},
   "outputs": [],
   "source": [
    "secrets_file = open(\"secrets-Copy1.txt\",\"r\")"
   ]
  },
  {
   "cell_type": "code",
   "execution_count": 5,
   "id": "2857dc33-4317-4fa2-a3d6-9c14b50d3b46",
   "metadata": {},
   "outputs": [],
   "source": [
    "string = secrets_file.read()"
   ]
  },
  {
   "cell_type": "code",
   "execution_count": 6,
   "id": "21598377-e8ce-4ac6-8e67-076e58bef842",
   "metadata": {},
   "outputs": [],
   "source": [
    "secrets_dict={}\n",
    "for line in string.split('\\n'):\n",
    "    if len(line) > 0:\n",
    "        #print(line.split(':'))\n",
    "        secrets_dict[line.split(':')[0]]=line.split(':')[1].strip()"
   ]
  },
  {
   "cell_type": "code",
   "execution_count": 7,
   "id": "1a28b87a-a702-4db8-b42e-ba712f074ea9",
   "metadata": {},
   "outputs": [],
   "source": [
    "# authentification with secrets"
   ]
  },
  {
   "cell_type": "code",
   "execution_count": 8,
   "id": "2b2c41ce-4a42-45aa-bd8a-05feda0d209e",
   "metadata": {},
   "outputs": [],
   "source": [
    "# This creates actually the connection to spotify (spotify wrapper is called sp)\n",
    "# It uses the key client id to substitue the id\n",
    "# It will substitue secret\n",
    "#Initialize SpotiPy with user credentials\n",
    "sp = spotipy.Spotify(auth_manager=SpotifyClientCredentials(client_id=secrets_dict['clientid'],\n",
    "                                                           client_secret=secrets_dict['clientsecret']))"
   ]
  },
  {
   "cell_type": "markdown",
   "id": "c7621d0b-328e-45e5-a048-4886eed031d2",
   "metadata": {},
   "source": [
    "Load my audio features as songs_all form CSV file into lab-unsupervised-learning-intro"
   ]
  },
  {
   "cell_type": "code",
   "execution_count": 9,
   "id": "bdbe8775-e6c1-4320-9dce-b2c9f0b12be9",
   "metadata": {},
   "outputs": [],
   "source": [
    "full_audio_songs = pd.read_csv(\"songs_all-Copy1.csv\")"
   ]
  },
  {
   "cell_type": "code",
   "execution_count": 10,
   "id": "9ff3da85-b90d-4202-bd0b-96dc85352039",
   "metadata": {},
   "outputs": [
    {
     "data": {
      "text/plain": [
       "pandas.core.frame.DataFrame"
      ]
     },
     "execution_count": 10,
     "metadata": {},
     "output_type": "execute_result"
    }
   ],
   "source": [
    "type(full_audio_songs)"
   ]
  },
  {
   "cell_type": "code",
   "execution_count": 11,
   "id": "ccbf2cba-6464-4ea2-9658-28c627e4bf73",
   "metadata": {},
   "outputs": [
    {
     "data": {
      "text/plain": [
       "track.name          4146\n",
       "name                4146\n",
       "song_id             4144\n",
       "danceability           1\n",
       "energy                 1\n",
       "key                    1\n",
       "loudness               1\n",
       "mode                   1\n",
       "speechiness            1\n",
       "acousticness           1\n",
       "instrumentalness       1\n",
       "liveness               1\n",
       "valence                1\n",
       "tempo                  1\n",
       "type                   1\n",
       "id                     1\n",
       "uri                    1\n",
       "track_href             1\n",
       "analysis_url           1\n",
       "duration_ms            1\n",
       "time_signature         1\n",
       "dtype: int64"
      ]
     },
     "execution_count": 11,
     "metadata": {},
     "output_type": "execute_result"
    }
   ],
   "source": [
    "full_audio_songs.isnull().sum()"
   ]
  },
  {
   "cell_type": "markdown",
   "id": "63a9e930-270f-4fef-9c4f-69bbba32b7cb",
   "metadata": {},
   "source": [
    "Load my Hot songs from CSV file into lab-unsupervised-learning-intro"
   ]
  },
  {
   "cell_type": "code",
   "execution_count": 12,
   "id": "a86a707e-16b7-477c-b896-c4e245fced3b",
   "metadata": {},
   "outputs": [],
   "source": [
    "hot_songs = pd.read_csv(\"hot_songs-Copy1.csv\")"
   ]
  },
  {
   "cell_type": "code",
   "execution_count": 13,
   "id": "5bb8f376-5368-4c57-9188-24085d316be5",
   "metadata": {},
   "outputs": [],
   "source": [
    "# Look at the data"
   ]
  },
  {
   "cell_type": "code",
   "execution_count": 14,
   "id": "7adba9f4-dcd0-475f-aef6-8502cef44e5f",
   "metadata": {},
   "outputs": [
    {
     "data": {
      "text/html": [
       "<div>\n",
       "<style scoped>\n",
       "    .dataframe tbody tr th:only-of-type {\n",
       "        vertical-align: middle;\n",
       "    }\n",
       "\n",
       "    .dataframe tbody tr th {\n",
       "        vertical-align: top;\n",
       "    }\n",
       "\n",
       "    .dataframe thead th {\n",
       "        text-align: right;\n",
       "    }\n",
       "</style>\n",
       "<table border=\"1\" class=\"dataframe\">\n",
       "  <thead>\n",
       "    <tr style=\"text-align: right;\">\n",
       "      <th></th>\n",
       "      <th>track.name</th>\n",
       "      <th>name</th>\n",
       "      <th>song_id</th>\n",
       "      <th>danceability</th>\n",
       "      <th>energy</th>\n",
       "      <th>key</th>\n",
       "      <th>loudness</th>\n",
       "      <th>mode</th>\n",
       "      <th>speechiness</th>\n",
       "      <th>acousticness</th>\n",
       "      <th>...</th>\n",
       "      <th>liveness</th>\n",
       "      <th>valence</th>\n",
       "      <th>tempo</th>\n",
       "      <th>type</th>\n",
       "      <th>id</th>\n",
       "      <th>uri</th>\n",
       "      <th>track_href</th>\n",
       "      <th>analysis_url</th>\n",
       "      <th>duration_ms</th>\n",
       "      <th>time_signature</th>\n",
       "    </tr>\n",
       "  </thead>\n",
       "  <tbody>\n",
       "    <tr>\n",
       "      <th>0</th>\n",
       "      <td>Firework</td>\n",
       "      <td>Katy Perry</td>\n",
       "      <td>4lCv7b86sLynZbXhfScfm2</td>\n",
       "      <td>0.638</td>\n",
       "      <td>0.826</td>\n",
       "      <td>8.0</td>\n",
       "      <td>-4.968</td>\n",
       "      <td>1.0</td>\n",
       "      <td>0.0479</td>\n",
       "      <td>0.1390</td>\n",
       "      <td>...</td>\n",
       "      <td>0.0803</td>\n",
       "      <td>0.649</td>\n",
       "      <td>124.072</td>\n",
       "      <td>audio_features</td>\n",
       "      <td>4lCv7b86sLynZbXhfScfm2</td>\n",
       "      <td>spotify:track:4lCv7b86sLynZbXhfScfm2</td>\n",
       "      <td>https://api.spotify.com/v1/tracks/4lCv7b86sLyn...</td>\n",
       "      <td>https://api.spotify.com/v1/audio-analysis/4lCv...</td>\n",
       "      <td>227880.0</td>\n",
       "      <td>4.0</td>\n",
       "    </tr>\n",
       "    <tr>\n",
       "      <th>1</th>\n",
       "      <td>All We Are</td>\n",
       "      <td>OneRepublic</td>\n",
       "      <td>1Jx69b09LKTuBQxkEiFfVX</td>\n",
       "      <td>0.397</td>\n",
       "      <td>0.817</td>\n",
       "      <td>2.0</td>\n",
       "      <td>-5.495</td>\n",
       "      <td>1.0</td>\n",
       "      <td>0.0420</td>\n",
       "      <td>0.0966</td>\n",
       "      <td>...</td>\n",
       "      <td>0.3160</td>\n",
       "      <td>0.416</td>\n",
       "      <td>158.004</td>\n",
       "      <td>audio_features</td>\n",
       "      <td>1Jx69b09LKTuBQxkEiFfVX</td>\n",
       "      <td>spotify:track:1Jx69b09LKTuBQxkEiFfVX</td>\n",
       "      <td>https://api.spotify.com/v1/tracks/1Jx69b09LKTu...</td>\n",
       "      <td>https://api.spotify.com/v1/audio-analysis/1Jx6...</td>\n",
       "      <td>266227.0</td>\n",
       "      <td>4.0</td>\n",
       "    </tr>\n",
       "    <tr>\n",
       "      <th>2</th>\n",
       "      <td>Wake Up Alone</td>\n",
       "      <td>Amy Winehouse</td>\n",
       "      <td>4u83mwF5tUuWlXS86UOXdu</td>\n",
       "      <td>0.384</td>\n",
       "      <td>0.527</td>\n",
       "      <td>11.0</td>\n",
       "      <td>-5.294</td>\n",
       "      <td>0.0</td>\n",
       "      <td>0.0269</td>\n",
       "      <td>0.5420</td>\n",
       "      <td>...</td>\n",
       "      <td>0.1560</td>\n",
       "      <td>0.222</td>\n",
       "      <td>100.730</td>\n",
       "      <td>audio_features</td>\n",
       "      <td>4u83mwF5tUuWlXS86UOXdu</td>\n",
       "      <td>spotify:track:4u83mwF5tUuWlXS86UOXdu</td>\n",
       "      <td>https://api.spotify.com/v1/tracks/4u83mwF5tUuW...</td>\n",
       "      <td>https://api.spotify.com/v1/audio-analysis/4u83...</td>\n",
       "      <td>221200.0</td>\n",
       "      <td>3.0</td>\n",
       "    </tr>\n",
       "    <tr>\n",
       "      <th>3</th>\n",
       "      <td>The Man Who Can't Be Moved</td>\n",
       "      <td>The Script</td>\n",
       "      <td>4Musyaro0NM5Awx8b5c627</td>\n",
       "      <td>0.608</td>\n",
       "      <td>0.629</td>\n",
       "      <td>10.0</td>\n",
       "      <td>-5.024</td>\n",
       "      <td>1.0</td>\n",
       "      <td>0.0264</td>\n",
       "      <td>0.4230</td>\n",
       "      <td>...</td>\n",
       "      <td>0.0978</td>\n",
       "      <td>0.325</td>\n",
       "      <td>99.953</td>\n",
       "      <td>audio_features</td>\n",
       "      <td>4Musyaro0NM5Awx8b5c627</td>\n",
       "      <td>spotify:track:4Musyaro0NM5Awx8b5c627</td>\n",
       "      <td>https://api.spotify.com/v1/tracks/4Musyaro0NM5...</td>\n",
       "      <td>https://api.spotify.com/v1/audio-analysis/4Mus...</td>\n",
       "      <td>241467.0</td>\n",
       "      <td>4.0</td>\n",
       "    </tr>\n",
       "    <tr>\n",
       "      <th>4</th>\n",
       "      <td>Rolling in the Deep</td>\n",
       "      <td>Adele</td>\n",
       "      <td>1CkvWZme3pRgbzaxZnTl5X</td>\n",
       "      <td>0.729</td>\n",
       "      <td>0.756</td>\n",
       "      <td>8.0</td>\n",
       "      <td>-5.119</td>\n",
       "      <td>1.0</td>\n",
       "      <td>0.0294</td>\n",
       "      <td>0.1310</td>\n",
       "      <td>...</td>\n",
       "      <td>0.0527</td>\n",
       "      <td>0.522</td>\n",
       "      <td>104.945</td>\n",
       "      <td>audio_features</td>\n",
       "      <td>1CkvWZme3pRgbzaxZnTl5X</td>\n",
       "      <td>spotify:track:1CkvWZme3pRgbzaxZnTl5X</td>\n",
       "      <td>https://api.spotify.com/v1/tracks/1CkvWZme3pRg...</td>\n",
       "      <td>https://api.spotify.com/v1/audio-analysis/1Ckv...</td>\n",
       "      <td>228293.0</td>\n",
       "      <td>4.0</td>\n",
       "    </tr>\n",
       "  </tbody>\n",
       "</table>\n",
       "<p>5 rows × 21 columns</p>\n",
       "</div>"
      ],
      "text/plain": [
       "                   track.name           name                 song_id  \\\n",
       "0                    Firework     Katy Perry  4lCv7b86sLynZbXhfScfm2   \n",
       "1                  All We Are    OneRepublic  1Jx69b09LKTuBQxkEiFfVX   \n",
       "2               Wake Up Alone  Amy Winehouse  4u83mwF5tUuWlXS86UOXdu   \n",
       "3  The Man Who Can't Be Moved     The Script  4Musyaro0NM5Awx8b5c627   \n",
       "4         Rolling in the Deep          Adele  1CkvWZme3pRgbzaxZnTl5X   \n",
       "\n",
       "   danceability  energy   key  loudness  mode  speechiness  acousticness  ...  \\\n",
       "0         0.638   0.826   8.0    -4.968   1.0       0.0479        0.1390  ...   \n",
       "1         0.397   0.817   2.0    -5.495   1.0       0.0420        0.0966  ...   \n",
       "2         0.384   0.527  11.0    -5.294   0.0       0.0269        0.5420  ...   \n",
       "3         0.608   0.629  10.0    -5.024   1.0       0.0264        0.4230  ...   \n",
       "4         0.729   0.756   8.0    -5.119   1.0       0.0294        0.1310  ...   \n",
       "\n",
       "   liveness  valence    tempo            type                      id  \\\n",
       "0    0.0803    0.649  124.072  audio_features  4lCv7b86sLynZbXhfScfm2   \n",
       "1    0.3160    0.416  158.004  audio_features  1Jx69b09LKTuBQxkEiFfVX   \n",
       "2    0.1560    0.222  100.730  audio_features  4u83mwF5tUuWlXS86UOXdu   \n",
       "3    0.0978    0.325   99.953  audio_features  4Musyaro0NM5Awx8b5c627   \n",
       "4    0.0527    0.522  104.945  audio_features  1CkvWZme3pRgbzaxZnTl5X   \n",
       "\n",
       "                                    uri  \\\n",
       "0  spotify:track:4lCv7b86sLynZbXhfScfm2   \n",
       "1  spotify:track:1Jx69b09LKTuBQxkEiFfVX   \n",
       "2  spotify:track:4u83mwF5tUuWlXS86UOXdu   \n",
       "3  spotify:track:4Musyaro0NM5Awx8b5c627   \n",
       "4  spotify:track:1CkvWZme3pRgbzaxZnTl5X   \n",
       "\n",
       "                                          track_href  \\\n",
       "0  https://api.spotify.com/v1/tracks/4lCv7b86sLyn...   \n",
       "1  https://api.spotify.com/v1/tracks/1Jx69b09LKTu...   \n",
       "2  https://api.spotify.com/v1/tracks/4u83mwF5tUuW...   \n",
       "3  https://api.spotify.com/v1/tracks/4Musyaro0NM5...   \n",
       "4  https://api.spotify.com/v1/tracks/1CkvWZme3pRg...   \n",
       "\n",
       "                                        analysis_url duration_ms  \\\n",
       "0  https://api.spotify.com/v1/audio-analysis/4lCv...    227880.0   \n",
       "1  https://api.spotify.com/v1/audio-analysis/1Jx6...    266227.0   \n",
       "2  https://api.spotify.com/v1/audio-analysis/4u83...    221200.0   \n",
       "3  https://api.spotify.com/v1/audio-analysis/4Mus...    241467.0   \n",
       "4  https://api.spotify.com/v1/audio-analysis/1Ckv...    228293.0   \n",
       "\n",
       "   time_signature  \n",
       "0             4.0  \n",
       "1             4.0  \n",
       "2             3.0  \n",
       "3             4.0  \n",
       "4             4.0  \n",
       "\n",
       "[5 rows x 21 columns]"
      ]
     },
     "execution_count": 14,
     "metadata": {},
     "output_type": "execute_result"
    }
   ],
   "source": [
    "full_audio_songs.head()\n"
   ]
  },
  {
   "cell_type": "code",
   "execution_count": 15,
   "id": "80957f41-47e0-49ce-82d8-68f51b190d36",
   "metadata": {},
   "outputs": [
    {
     "data": {
      "text/plain": [
       "(23249, 21)"
      ]
     },
     "execution_count": 15,
     "metadata": {},
     "output_type": "execute_result"
    }
   ],
   "source": [
    "full_audio_songs.shape"
   ]
  },
  {
   "cell_type": "code",
   "execution_count": 16,
   "id": "113b38d6-d53f-459d-8c48-c500b68f31d1",
   "metadata": {},
   "outputs": [
    {
     "data": {
      "text/html": [
       "<div>\n",
       "<style scoped>\n",
       "    .dataframe tbody tr th:only-of-type {\n",
       "        vertical-align: middle;\n",
       "    }\n",
       "\n",
       "    .dataframe tbody tr th {\n",
       "        vertical-align: top;\n",
       "    }\n",
       "\n",
       "    .dataframe thead th {\n",
       "        text-align: right;\n",
       "    }\n",
       "</style>\n",
       "<table border=\"1\" class=\"dataframe\">\n",
       "  <thead>\n",
       "    <tr style=\"text-align: right;\">\n",
       "      <th></th>\n",
       "      <th>title</th>\n",
       "      <th>artist</th>\n",
       "    </tr>\n",
       "  </thead>\n",
       "  <tbody>\n",
       "    <tr>\n",
       "      <th>0</th>\n",
       "      <td>Lil Boo Thang</td>\n",
       "      <td>Paul Russell</td>\n",
       "    </tr>\n",
       "    <tr>\n",
       "      <th>1</th>\n",
       "      <td>Wrap Me Up</td>\n",
       "      <td>Jimmy Fallon &amp; Meghan Trainor</td>\n",
       "    </tr>\n",
       "    <tr>\n",
       "      <th>2</th>\n",
       "      <td>Lovin On Me</td>\n",
       "      <td>Jack Harlow</td>\n",
       "    </tr>\n",
       "    <tr>\n",
       "      <th>3</th>\n",
       "      <td>Find Your People</td>\n",
       "      <td>Drew Holcomb &amp; The Neighbors</td>\n",
       "    </tr>\n",
       "    <tr>\n",
       "      <th>4</th>\n",
       "      <td>DJ Play A Christmas Song</td>\n",
       "      <td>Cher</td>\n",
       "    </tr>\n",
       "  </tbody>\n",
       "</table>\n",
       "</div>"
      ],
      "text/plain": [
       "                      title                         artist\n",
       "0             Lil Boo Thang                   Paul Russell\n",
       "1                Wrap Me Up  Jimmy Fallon & Meghan Trainor\n",
       "2               Lovin On Me                    Jack Harlow\n",
       "3          Find Your People   Drew Holcomb & The Neighbors\n",
       "4  DJ Play A Christmas Song                           Cher"
      ]
     },
     "execution_count": 16,
     "metadata": {},
     "output_type": "execute_result"
    }
   ],
   "source": [
    "hot_songs.head()"
   ]
  },
  {
   "cell_type": "code",
   "execution_count": 17,
   "id": "7d44ebd2-81ca-4fee-86fc-e5fdd1432c25",
   "metadata": {},
   "outputs": [
    {
     "data": {
      "text/plain": [
       "(200, 2)"
      ]
     },
     "execution_count": 17,
     "metadata": {},
     "output_type": "execute_result"
    }
   ],
   "source": [
    "hot_songs.shape"
   ]
  },
  {
   "cell_type": "markdown",
   "id": "16c656de-f9da-4c01-afbc-e5c679e7b4c7",
   "metadata": {},
   "source": [
    "# KMeans"
   ]
  },
  {
   "cell_type": "code",
   "execution_count": 18,
   "id": "38cb6aa8-a5cf-47f8-8b8b-aaf7fe5a405e",
   "metadata": {},
   "outputs": [],
   "source": [
    "# K-means\n",
    "import numpy as np\n",
    "import matplotlib.pyplot as plt\n",
    "\n",
    "from sklearn import cluster, datasets\n",
    "from sklearn.preprocessing import StandardScaler\n",
    "from matplotlib.lines import Line2D"
   ]
  },
  {
   "cell_type": "code",
   "execution_count": 19,
   "id": "96be9027-42a0-4d5d-8fe3-7ceba8c256c4",
   "metadata": {},
   "outputs": [
    {
     "data": {
      "text/plain": [
       "pandas.core.frame.DataFrame"
      ]
     },
     "execution_count": 19,
     "metadata": {},
     "output_type": "execute_result"
    }
   ],
   "source": [
    "type(full_audio_songs)"
   ]
  },
  {
   "cell_type": "code",
   "execution_count": 20,
   "id": "142860a8-8b2d-470b-a763-a18d205f46f5",
   "metadata": {},
   "outputs": [],
   "source": [
    "def drop_nulls_in_all_columns(df):\n",
    "    df_copy = df.copy()\n",
    "    for column in df_copy.columns:\n",
    "        df_copy[column].dropna(inplace=True)\n",
    "    return df_copy"
   ]
  },
  {
   "cell_type": "code",
   "execution_count": 21,
   "id": "bc06e93f-a5b3-4d51-a7f7-e53c80cac603",
   "metadata": {},
   "outputs": [],
   "source": [
    "full_audio_songs = drop_nulls_in_all_columns(full_audio_songs)"
   ]
  },
  {
   "cell_type": "code",
   "execution_count": 22,
   "id": "ea1f9dd4-67f1-44e3-b572-5ec9f9128779",
   "metadata": {},
   "outputs": [
    {
     "data": {
      "text/plain": [
       "pandas.core.frame.DataFrame"
      ]
     },
     "execution_count": 22,
     "metadata": {},
     "output_type": "execute_result"
    }
   ],
   "source": [
    "type(full_audio_songs)"
   ]
  },
  {
   "cell_type": "code",
   "execution_count": 23,
   "id": "1f1b1609-e3d1-451a-b0b3-228904948b41",
   "metadata": {},
   "outputs": [],
   "source": [
    "# Differentiate in categorical and numerical columns \n",
    "    # K-means can only handle numerical"
   ]
  },
  {
   "cell_type": "code",
   "execution_count": 24,
   "id": "76b1e61c-5741-447e-8231-1a797da7805c",
   "metadata": {},
   "outputs": [],
   "source": [
    "# This columns are numerical\n",
    "    # danceability\tenergy\tkey\tloudness\tmode\tspeechiness\tacousticness\t...\tliveness\tvalence\ttempo"
   ]
  },
  {
   "cell_type": "code",
   "execution_count": 25,
   "id": "fb343418-e5ae-4b80-8080-0059bab27170",
   "metadata": {},
   "outputs": [],
   "source": [
    "# Drop all the categorical columns\n",
    "categorical_columns = ['track.name', 'name', 'song_id', 'type', 'id', 'uri', 'track_href', 'analysis_url']"
   ]
  },
  {
   "cell_type": "code",
   "execution_count": 26,
   "id": "a9ce792a-d8da-4dcb-8bb7-0069faffc92a",
   "metadata": {},
   "outputs": [],
   "source": [
    "# Splitting numerical and categorical for plotting\n",
    "categorical = full_audio_songs.select_dtypes(include=object)\n",
    "numerical = full_audio_songs.select_dtypes(include=np.number)"
   ]
  },
  {
   "cell_type": "code",
   "execution_count": 27,
   "id": "eb8081c4-eff6-4902-8774-6615bc1b369a",
   "metadata": {},
   "outputs": [
    {
     "data": {
      "text/plain": [
       "Index(['track.name', 'name', 'song_id', 'type', 'id', 'uri', 'track_href',\n",
       "       'analysis_url'],\n",
       "      dtype='object')"
      ]
     },
     "execution_count": 27,
     "metadata": {},
     "output_type": "execute_result"
    }
   ],
   "source": [
    "categorical.columns"
   ]
  },
  {
   "cell_type": "code",
   "execution_count": 28,
   "id": "ec03a40f-0daf-421d-a7ce-35c87b4f78aa",
   "metadata": {},
   "outputs": [],
   "source": [
    "# Checks out with categorical classification"
   ]
  },
  {
   "cell_type": "code",
   "execution_count": 29,
   "id": "fb2f29a3-8af5-41fb-b6eb-3fa362528e19",
   "metadata": {},
   "outputs": [],
   "source": [
    "def drop_categorical_columns(df):\n",
    "    # Select categorical columns\n",
    "    categorical_columns = df.select_dtypes(include=object).columns\n",
    "    \n",
    "    # Drop categorical columns\n",
    "    df = df.drop(categorical_columns, axis=1)\n",
    "    \n",
    "    return df"
   ]
  },
  {
   "cell_type": "code",
   "execution_count": 30,
   "id": "671bd5a5-4a10-4f42-aedf-420748b9723b",
   "metadata": {},
   "outputs": [
    {
     "data": {
      "text/plain": [
       "pandas.core.frame.DataFrame"
      ]
     },
     "execution_count": 30,
     "metadata": {},
     "output_type": "execute_result"
    }
   ],
   "source": [
    "type(full_audio_songs)"
   ]
  },
  {
   "cell_type": "code",
   "execution_count": 31,
   "id": "bb5739da-5256-4510-a0cb-8f117c9ca97f",
   "metadata": {},
   "outputs": [
    {
     "data": {
      "text/html": [
       "<div>\n",
       "<style scoped>\n",
       "    .dataframe tbody tr th:only-of-type {\n",
       "        vertical-align: middle;\n",
       "    }\n",
       "\n",
       "    .dataframe tbody tr th {\n",
       "        vertical-align: top;\n",
       "    }\n",
       "\n",
       "    .dataframe thead th {\n",
       "        text-align: right;\n",
       "    }\n",
       "</style>\n",
       "<table border=\"1\" class=\"dataframe\">\n",
       "  <thead>\n",
       "    <tr style=\"text-align: right;\">\n",
       "      <th></th>\n",
       "      <th>danceability</th>\n",
       "      <th>energy</th>\n",
       "      <th>key</th>\n",
       "      <th>loudness</th>\n",
       "      <th>mode</th>\n",
       "      <th>speechiness</th>\n",
       "      <th>acousticness</th>\n",
       "      <th>instrumentalness</th>\n",
       "      <th>liveness</th>\n",
       "      <th>valence</th>\n",
       "      <th>tempo</th>\n",
       "      <th>duration_ms</th>\n",
       "      <th>time_signature</th>\n",
       "    </tr>\n",
       "  </thead>\n",
       "  <tbody>\n",
       "    <tr>\n",
       "      <th>0</th>\n",
       "      <td>0.638</td>\n",
       "      <td>0.826</td>\n",
       "      <td>8.0</td>\n",
       "      <td>-4.968</td>\n",
       "      <td>1.0</td>\n",
       "      <td>0.0479</td>\n",
       "      <td>0.13900</td>\n",
       "      <td>0.000000</td>\n",
       "      <td>0.0803</td>\n",
       "      <td>0.649</td>\n",
       "      <td>124.072</td>\n",
       "      <td>227880.0</td>\n",
       "      <td>4.0</td>\n",
       "    </tr>\n",
       "    <tr>\n",
       "      <th>1</th>\n",
       "      <td>0.397</td>\n",
       "      <td>0.817</td>\n",
       "      <td>2.0</td>\n",
       "      <td>-5.495</td>\n",
       "      <td>1.0</td>\n",
       "      <td>0.0420</td>\n",
       "      <td>0.09660</td>\n",
       "      <td>0.000008</td>\n",
       "      <td>0.3160</td>\n",
       "      <td>0.416</td>\n",
       "      <td>158.004</td>\n",
       "      <td>266227.0</td>\n",
       "      <td>4.0</td>\n",
       "    </tr>\n",
       "    <tr>\n",
       "      <th>2</th>\n",
       "      <td>0.384</td>\n",
       "      <td>0.527</td>\n",
       "      <td>11.0</td>\n",
       "      <td>-5.294</td>\n",
       "      <td>0.0</td>\n",
       "      <td>0.0269</td>\n",
       "      <td>0.54200</td>\n",
       "      <td>0.000000</td>\n",
       "      <td>0.1560</td>\n",
       "      <td>0.222</td>\n",
       "      <td>100.730</td>\n",
       "      <td>221200.0</td>\n",
       "      <td>3.0</td>\n",
       "    </tr>\n",
       "    <tr>\n",
       "      <th>3</th>\n",
       "      <td>0.608</td>\n",
       "      <td>0.629</td>\n",
       "      <td>10.0</td>\n",
       "      <td>-5.024</td>\n",
       "      <td>1.0</td>\n",
       "      <td>0.0264</td>\n",
       "      <td>0.42300</td>\n",
       "      <td>0.000000</td>\n",
       "      <td>0.0978</td>\n",
       "      <td>0.325</td>\n",
       "      <td>99.953</td>\n",
       "      <td>241467.0</td>\n",
       "      <td>4.0</td>\n",
       "    </tr>\n",
       "    <tr>\n",
       "      <th>4</th>\n",
       "      <td>0.729</td>\n",
       "      <td>0.756</td>\n",
       "      <td>8.0</td>\n",
       "      <td>-5.119</td>\n",
       "      <td>1.0</td>\n",
       "      <td>0.0294</td>\n",
       "      <td>0.13100</td>\n",
       "      <td>0.000000</td>\n",
       "      <td>0.0527</td>\n",
       "      <td>0.522</td>\n",
       "      <td>104.945</td>\n",
       "      <td>228293.0</td>\n",
       "      <td>4.0</td>\n",
       "    </tr>\n",
       "    <tr>\n",
       "      <th>...</th>\n",
       "      <td>...</td>\n",
       "      <td>...</td>\n",
       "      <td>...</td>\n",
       "      <td>...</td>\n",
       "      <td>...</td>\n",
       "      <td>...</td>\n",
       "      <td>...</td>\n",
       "      <td>...</td>\n",
       "      <td>...</td>\n",
       "      <td>...</td>\n",
       "      <td>...</td>\n",
       "      <td>...</td>\n",
       "      <td>...</td>\n",
       "    </tr>\n",
       "    <tr>\n",
       "      <th>23244</th>\n",
       "      <td>0.439</td>\n",
       "      <td>0.610</td>\n",
       "      <td>9.0</td>\n",
       "      <td>-7.236</td>\n",
       "      <td>1.0</td>\n",
       "      <td>0.1160</td>\n",
       "      <td>0.59300</td>\n",
       "      <td>0.000011</td>\n",
       "      <td>0.3410</td>\n",
       "      <td>0.172</td>\n",
       "      <td>181.088</td>\n",
       "      <td>215508.0</td>\n",
       "      <td>4.0</td>\n",
       "    </tr>\n",
       "    <tr>\n",
       "      <th>23245</th>\n",
       "      <td>0.897</td>\n",
       "      <td>0.371</td>\n",
       "      <td>1.0</td>\n",
       "      <td>-5.019</td>\n",
       "      <td>1.0</td>\n",
       "      <td>0.3680</td>\n",
       "      <td>0.09040</td>\n",
       "      <td>0.000000</td>\n",
       "      <td>0.3250</td>\n",
       "      <td>0.441</td>\n",
       "      <td>81.008</td>\n",
       "      <td>156005.0</td>\n",
       "      <td>4.0</td>\n",
       "    </tr>\n",
       "    <tr>\n",
       "      <th>23246</th>\n",
       "      <td>0.964</td>\n",
       "      <td>0.398</td>\n",
       "      <td>11.0</td>\n",
       "      <td>-8.981</td>\n",
       "      <td>0.0</td>\n",
       "      <td>0.0795</td>\n",
       "      <td>0.00151</td>\n",
       "      <td>0.000039</td>\n",
       "      <td>0.1010</td>\n",
       "      <td>0.563</td>\n",
       "      <td>105.012</td>\n",
       "      <td>178405.0</td>\n",
       "      <td>4.0</td>\n",
       "    </tr>\n",
       "    <tr>\n",
       "      <th>23247</th>\n",
       "      <td>0.964</td>\n",
       "      <td>0.398</td>\n",
       "      <td>11.0</td>\n",
       "      <td>-8.981</td>\n",
       "      <td>0.0</td>\n",
       "      <td>0.0795</td>\n",
       "      <td>0.00151</td>\n",
       "      <td>0.000039</td>\n",
       "      <td>0.1010</td>\n",
       "      <td>0.563</td>\n",
       "      <td>105.012</td>\n",
       "      <td>178405.0</td>\n",
       "      <td>4.0</td>\n",
       "    </tr>\n",
       "    <tr>\n",
       "      <th>23248</th>\n",
       "      <td>0.653</td>\n",
       "      <td>0.524</td>\n",
       "      <td>11.0</td>\n",
       "      <td>-9.016</td>\n",
       "      <td>0.0</td>\n",
       "      <td>0.0502</td>\n",
       "      <td>0.11200</td>\n",
       "      <td>0.000000</td>\n",
       "      <td>0.2030</td>\n",
       "      <td>0.553</td>\n",
       "      <td>83.970</td>\n",
       "      <td>160191.0</td>\n",
       "      <td>4.0</td>\n",
       "    </tr>\n",
       "  </tbody>\n",
       "</table>\n",
       "<p>23249 rows × 13 columns</p>\n",
       "</div>"
      ],
      "text/plain": [
       "       danceability  energy   key  loudness  mode  speechiness  acousticness  \\\n",
       "0             0.638   0.826   8.0    -4.968   1.0       0.0479       0.13900   \n",
       "1             0.397   0.817   2.0    -5.495   1.0       0.0420       0.09660   \n",
       "2             0.384   0.527  11.0    -5.294   0.0       0.0269       0.54200   \n",
       "3             0.608   0.629  10.0    -5.024   1.0       0.0264       0.42300   \n",
       "4             0.729   0.756   8.0    -5.119   1.0       0.0294       0.13100   \n",
       "...             ...     ...   ...       ...   ...          ...           ...   \n",
       "23244         0.439   0.610   9.0    -7.236   1.0       0.1160       0.59300   \n",
       "23245         0.897   0.371   1.0    -5.019   1.0       0.3680       0.09040   \n",
       "23246         0.964   0.398  11.0    -8.981   0.0       0.0795       0.00151   \n",
       "23247         0.964   0.398  11.0    -8.981   0.0       0.0795       0.00151   \n",
       "23248         0.653   0.524  11.0    -9.016   0.0       0.0502       0.11200   \n",
       "\n",
       "       instrumentalness  liveness  valence    tempo  duration_ms  \\\n",
       "0              0.000000    0.0803    0.649  124.072     227880.0   \n",
       "1              0.000008    0.3160    0.416  158.004     266227.0   \n",
       "2              0.000000    0.1560    0.222  100.730     221200.0   \n",
       "3              0.000000    0.0978    0.325   99.953     241467.0   \n",
       "4              0.000000    0.0527    0.522  104.945     228293.0   \n",
       "...                 ...       ...      ...      ...          ...   \n",
       "23244          0.000011    0.3410    0.172  181.088     215508.0   \n",
       "23245          0.000000    0.3250    0.441   81.008     156005.0   \n",
       "23246          0.000039    0.1010    0.563  105.012     178405.0   \n",
       "23247          0.000039    0.1010    0.563  105.012     178405.0   \n",
       "23248          0.000000    0.2030    0.553   83.970     160191.0   \n",
       "\n",
       "       time_signature  \n",
       "0                 4.0  \n",
       "1                 4.0  \n",
       "2                 3.0  \n",
       "3                 4.0  \n",
       "4                 4.0  \n",
       "...               ...  \n",
       "23244             4.0  \n",
       "23245             4.0  \n",
       "23246             4.0  \n",
       "23247             4.0  \n",
       "23248             4.0  \n",
       "\n",
       "[23249 rows x 13 columns]"
      ]
     },
     "execution_count": 31,
     "metadata": {},
     "output_type": "execute_result"
    }
   ],
   "source": [
    "full_audio_songs = drop_categorical_columns(full_audio_songs)\n",
    "full_audio_songs"
   ]
  },
  {
   "cell_type": "code",
   "execution_count": 60,
   "id": "2731e5f5-aa4c-48d0-8e6a-256f6473affe",
   "metadata": {},
   "outputs": [
    {
     "data": {
      "text/plain": [
       "danceability        1\n",
       "energy              1\n",
       "key                 1\n",
       "loudness            1\n",
       "mode                1\n",
       "speechiness         1\n",
       "acousticness        1\n",
       "instrumentalness    1\n",
       "liveness            1\n",
       "valence             1\n",
       "tempo               1\n",
       "duration_ms         1\n",
       "time_signature      1\n",
       "dtype: int64"
      ]
     },
     "execution_count": 60,
     "metadata": {},
     "output_type": "execute_result"
    }
   ],
   "source": [
    "full_audio_songs.isna().sum()"
   ]
  },
  {
   "cell_type": "code",
   "execution_count": 61,
   "id": "3b8a5134-461a-4ed6-b468-c7da6719a3d9",
   "metadata": {},
   "outputs": [],
   "source": [
    "full_audio_songs = full_audio_songs.dropna()"
   ]
  },
  {
   "cell_type": "code",
   "execution_count": 32,
   "id": "04d17166-01d0-4398-8b36-e703287a804b",
   "metadata": {},
   "outputs": [],
   "source": [
    "# The scale of \"duration and tempo\" are much higher than the scale of many other variables!\n",
    "# K-Means is a distance based algorithm: we need to scale / normalize:\n",
    "\n",
    "from sklearn.preprocessing import StandardScaler\n",
    "full_audio_songs_scaled = StandardScaler().fit_transform(full_audio_songs)\n",
    "\n",
    "# Now, all features will have the same weight.\n",
    "full_audio_songs_scaled = pd.DataFrame(full_audio_songs_scaled,columns=full_audio_songs.columns)"
   ]
  },
  {
   "cell_type": "code",
   "execution_count": 33,
   "id": "4545b80c-751c-4de5-949d-fba6d6e3a4ed",
   "metadata": {},
   "outputs": [
    {
     "data": {
      "text/plain": [
       "pandas.core.frame.DataFrame"
      ]
     },
     "execution_count": 33,
     "metadata": {},
     "output_type": "execute_result"
    }
   ],
   "source": [
    "type(full_audio_songs_scaled)"
   ]
  },
  {
   "cell_type": "code",
   "execution_count": 34,
   "id": "adfcc7ea-b1be-4fda-82e6-6122e0252632",
   "metadata": {},
   "outputs": [
    {
     "data": {
      "text/plain": [
       "(23249, 13)"
      ]
     },
     "execution_count": 34,
     "metadata": {},
     "output_type": "execute_result"
    }
   ],
   "source": [
    "full_audio_songs_scaled.shape"
   ]
  },
  {
   "cell_type": "code",
   "execution_count": 35,
   "id": "9c2d3395-f597-46f9-90af-034588515128",
   "metadata": {},
   "outputs": [
    {
     "data": {
      "text/plain": [
       "danceability        1\n",
       "energy              1\n",
       "key                 1\n",
       "loudness            1\n",
       "mode                1\n",
       "speechiness         1\n",
       "acousticness        1\n",
       "instrumentalness    1\n",
       "liveness            1\n",
       "valence             1\n",
       "tempo               1\n",
       "duration_ms         1\n",
       "time_signature      1\n",
       "dtype: int64"
      ]
     },
     "execution_count": 35,
     "metadata": {},
     "output_type": "execute_result"
    }
   ],
   "source": [
    "full_audio_songs_scaled.isna().sum()"
   ]
  },
  {
   "cell_type": "code",
   "execution_count": 36,
   "id": "68192b02-ff3d-4be7-9dc1-5a1ed18f14bc",
   "metadata": {},
   "outputs": [],
   "source": [
    "full_audio_songs_scaled = full_audio_songs_scaled.dropna()"
   ]
  },
  {
   "cell_type": "code",
   "execution_count": 37,
   "id": "748fff7f-6477-4698-ba3c-8d4ced041e00",
   "metadata": {},
   "outputs": [
    {
     "data": {
      "text/plain": [
       "danceability        0\n",
       "energy              0\n",
       "key                 0\n",
       "loudness            0\n",
       "mode                0\n",
       "speechiness         0\n",
       "acousticness        0\n",
       "instrumentalness    0\n",
       "liveness            0\n",
       "valence             0\n",
       "tempo               0\n",
       "duration_ms         0\n",
       "time_signature      0\n",
       "dtype: int64"
      ]
     },
     "execution_count": 37,
     "metadata": {},
     "output_type": "execute_result"
    }
   ],
   "source": [
    "full_audio_songs_scaled.isna().sum()"
   ]
  },
  {
   "cell_type": "markdown",
   "id": "f597c7a8-18fb-4370-9bf2-4cc190a8f764",
   "metadata": {},
   "source": [
    "# Choosing k"
   ]
  },
  {
   "cell_type": "code",
   "execution_count": 38,
   "id": "be8e7352-9bf0-43ff-bd16-34be99cca2fd",
   "metadata": {},
   "outputs": [],
   "source": [
    "from sklearn.cluster import KMeans"
   ]
  },
  {
   "cell_type": "code",
   "execution_count": 39,
   "id": "2fe264d0-d7f6-4afa-9071-adc2c5ff5edd",
   "metadata": {},
   "outputs": [],
   "source": [
    "# Choosing the amount of clusters"
   ]
  },
  {
   "cell_type": "code",
   "execution_count": 40,
   "id": "018bfd66-114a-4f44-bb2a-8d075e4e4ed4",
   "metadata": {},
   "outputs": [],
   "source": [
    "# I cant use  kmeans.fit() multiple times in the same notebook, therefore I have to externalize the method to search for k "
   ]
  },
  {
   "cell_type": "code",
   "execution_count": 41,
   "id": "2f907015-1dc0-4a4a-9556-f447b0569068",
   "metadata": {},
   "outputs": [],
   "source": [
    "# https://pythonprogramming.net/python-pickle-module-save-objects-serialization/"
   ]
  },
  {
   "cell_type": "code",
   "execution_count": 42,
   "id": "00f0c42f-5b30-43fa-b513-981ff387606f",
   "metadata": {},
   "outputs": [],
   "source": [
    "import pickle"
   ]
  },
  {
   "cell_type": "code",
   "execution_count": 43,
   "id": "5bfebae4-d6eb-424d-ba1c-34ea3a04f262",
   "metadata": {},
   "outputs": [],
   "source": [
    "# Lesson 6.05"
   ]
  },
  {
   "cell_type": "code",
   "execution_count": 44,
   "id": "40947a9d-d79f-425b-be7c-7710fc9b9410",
   "metadata": {},
   "outputs": [
    {
     "name": "stderr",
     "output_type": "stream",
     "text": [
      "C:\\anaconda\\Lib\\site-packages\\sklearn\\cluster\\_kmeans.py:1412: FutureWarning: The default value of `n_init` will change from 10 to 'auto' in 1.4. Set the value of `n_init` explicitly to suppress the warning\n",
      "  super()._check_params_vs_input(X, default_n_init=10)\n",
      "C:\\anaconda\\Lib\\site-packages\\sklearn\\cluster\\_kmeans.py:1412: FutureWarning: The default value of `n_init` will change from 10 to 'auto' in 1.4. Set the value of `n_init` explicitly to suppress the warning\n",
      "  super()._check_params_vs_input(X, default_n_init=10)\n",
      "C:\\anaconda\\Lib\\site-packages\\sklearn\\cluster\\_kmeans.py:1412: FutureWarning: The default value of `n_init` will change from 10 to 'auto' in 1.4. Set the value of `n_init` explicitly to suppress the warning\n",
      "  super()._check_params_vs_input(X, default_n_init=10)\n",
      "C:\\anaconda\\Lib\\site-packages\\sklearn\\cluster\\_kmeans.py:1412: FutureWarning: The default value of `n_init` will change from 10 to 'auto' in 1.4. Set the value of `n_init` explicitly to suppress the warning\n",
      "  super()._check_params_vs_input(X, default_n_init=10)\n",
      "C:\\anaconda\\Lib\\site-packages\\sklearn\\cluster\\_kmeans.py:1412: FutureWarning: The default value of `n_init` will change from 10 to 'auto' in 1.4. Set the value of `n_init` explicitly to suppress the warning\n",
      "  super()._check_params_vs_input(X, default_n_init=10)\n",
      "C:\\anaconda\\Lib\\site-packages\\sklearn\\cluster\\_kmeans.py:1412: FutureWarning: The default value of `n_init` will change from 10 to 'auto' in 1.4. Set the value of `n_init` explicitly to suppress the warning\n",
      "  super()._check_params_vs_input(X, default_n_init=10)\n",
      "C:\\anaconda\\Lib\\site-packages\\sklearn\\cluster\\_kmeans.py:1412: FutureWarning: The default value of `n_init` will change from 10 to 'auto' in 1.4. Set the value of `n_init` explicitly to suppress the warning\n",
      "  super()._check_params_vs_input(X, default_n_init=10)\n",
      "C:\\anaconda\\Lib\\site-packages\\sklearn\\cluster\\_kmeans.py:1412: FutureWarning: The default value of `n_init` will change from 10 to 'auto' in 1.4. Set the value of `n_init` explicitly to suppress the warning\n",
      "  super()._check_params_vs_input(X, default_n_init=10)\n",
      "C:\\anaconda\\Lib\\site-packages\\sklearn\\cluster\\_kmeans.py:1412: FutureWarning: The default value of `n_init` will change from 10 to 'auto' in 1.4. Set the value of `n_init` explicitly to suppress the warning\n",
      "  super()._check_params_vs_input(X, default_n_init=10)\n",
      "C:\\anaconda\\Lib\\site-packages\\sklearn\\cluster\\_kmeans.py:1412: FutureWarning: The default value of `n_init` will change from 10 to 'auto' in 1.4. Set the value of `n_init` explicitly to suppress the warning\n",
      "  super()._check_params_vs_input(X, default_n_init=10)\n",
      "C:\\anaconda\\Lib\\site-packages\\sklearn\\cluster\\_kmeans.py:1412: FutureWarning: The default value of `n_init` will change from 10 to 'auto' in 1.4. Set the value of `n_init` explicitly to suppress the warning\n",
      "  super()._check_params_vs_input(X, default_n_init=10)\n",
      "C:\\anaconda\\Lib\\site-packages\\sklearn\\cluster\\_kmeans.py:1412: FutureWarning: The default value of `n_init` will change from 10 to 'auto' in 1.4. Set the value of `n_init` explicitly to suppress the warning\n",
      "  super()._check_params_vs_input(X, default_n_init=10)\n",
      "C:\\anaconda\\Lib\\site-packages\\sklearn\\cluster\\_kmeans.py:1412: FutureWarning: The default value of `n_init` will change from 10 to 'auto' in 1.4. Set the value of `n_init` explicitly to suppress the warning\n",
      "  super()._check_params_vs_input(X, default_n_init=10)\n",
      "C:\\anaconda\\Lib\\site-packages\\sklearn\\cluster\\_kmeans.py:1412: FutureWarning: The default value of `n_init` will change from 10 to 'auto' in 1.4. Set the value of `n_init` explicitly to suppress the warning\n",
      "  super()._check_params_vs_input(X, default_n_init=10)\n",
      "C:\\anaconda\\Lib\\site-packages\\sklearn\\cluster\\_kmeans.py:1412: FutureWarning: The default value of `n_init` will change from 10 to 'auto' in 1.4. Set the value of `n_init` explicitly to suppress the warning\n",
      "  super()._check_params_vs_input(X, default_n_init=10)\n",
      "C:\\anaconda\\Lib\\site-packages\\sklearn\\cluster\\_kmeans.py:1412: FutureWarning: The default value of `n_init` will change from 10 to 'auto' in 1.4. Set the value of `n_init` explicitly to suppress the warning\n",
      "  super()._check_params_vs_input(X, default_n_init=10)\n",
      "C:\\anaconda\\Lib\\site-packages\\sklearn\\cluster\\_kmeans.py:1412: FutureWarning: The default value of `n_init` will change from 10 to 'auto' in 1.4. Set the value of `n_init` explicitly to suppress the warning\n",
      "  super()._check_params_vs_input(X, default_n_init=10)\n",
      "C:\\anaconda\\Lib\\site-packages\\sklearn\\cluster\\_kmeans.py:1412: FutureWarning: The default value of `n_init` will change from 10 to 'auto' in 1.4. Set the value of `n_init` explicitly to suppress the warning\n",
      "  super()._check_params_vs_input(X, default_n_init=10)\n",
      "C:\\anaconda\\Lib\\site-packages\\sklearn\\cluster\\_kmeans.py:1412: FutureWarning: The default value of `n_init` will change from 10 to 'auto' in 1.4. Set the value of `n_init` explicitly to suppress the warning\n",
      "  super()._check_params_vs_input(X, default_n_init=10)\n",
      "C:\\anaconda\\Lib\\site-packages\\sklearn\\cluster\\_kmeans.py:1412: FutureWarning: The default value of `n_init` will change from 10 to 'auto' in 1.4. Set the value of `n_init` explicitly to suppress the warning\n",
      "  super()._check_params_vs_input(X, default_n_init=10)\n",
      "C:\\anaconda\\Lib\\site-packages\\sklearn\\cluster\\_kmeans.py:1412: FutureWarning: The default value of `n_init` will change from 10 to 'auto' in 1.4. Set the value of `n_init` explicitly to suppress the warning\n",
      "  super()._check_params_vs_input(X, default_n_init=10)\n",
      "C:\\anaconda\\Lib\\site-packages\\sklearn\\cluster\\_kmeans.py:1412: FutureWarning: The default value of `n_init` will change from 10 to 'auto' in 1.4. Set the value of `n_init` explicitly to suppress the warning\n",
      "  super()._check_params_vs_input(X, default_n_init=10)\n",
      "C:\\anaconda\\Lib\\site-packages\\sklearn\\cluster\\_kmeans.py:1412: FutureWarning: The default value of `n_init` will change from 10 to 'auto' in 1.4. Set the value of `n_init` explicitly to suppress the warning\n",
      "  super()._check_params_vs_input(X, default_n_init=10)\n",
      "C:\\anaconda\\Lib\\site-packages\\sklearn\\cluster\\_kmeans.py:1412: FutureWarning: The default value of `n_init` will change from 10 to 'auto' in 1.4. Set the value of `n_init` explicitly to suppress the warning\n",
      "  super()._check_params_vs_input(X, default_n_init=10)\n",
      "C:\\anaconda\\Lib\\site-packages\\sklearn\\cluster\\_kmeans.py:1412: FutureWarning: The default value of `n_init` will change from 10 to 'auto' in 1.4. Set the value of `n_init` explicitly to suppress the warning\n",
      "  super()._check_params_vs_input(X, default_n_init=10)\n",
      "C:\\anaconda\\Lib\\site-packages\\sklearn\\cluster\\_kmeans.py:1412: FutureWarning: The default value of `n_init` will change from 10 to 'auto' in 1.4. Set the value of `n_init` explicitly to suppress the warning\n",
      "  super()._check_params_vs_input(X, default_n_init=10)\n",
      "C:\\anaconda\\Lib\\site-packages\\sklearn\\cluster\\_kmeans.py:1412: FutureWarning: The default value of `n_init` will change from 10 to 'auto' in 1.4. Set the value of `n_init` explicitly to suppress the warning\n",
      "  super()._check_params_vs_input(X, default_n_init=10)\n",
      "C:\\anaconda\\Lib\\site-packages\\sklearn\\cluster\\_kmeans.py:1412: FutureWarning: The default value of `n_init` will change from 10 to 'auto' in 1.4. Set the value of `n_init` explicitly to suppress the warning\n",
      "  super()._check_params_vs_input(X, default_n_init=10)\n",
      "C:\\anaconda\\Lib\\site-packages\\sklearn\\cluster\\_kmeans.py:1412: FutureWarning: The default value of `n_init` will change from 10 to 'auto' in 1.4. Set the value of `n_init` explicitly to suppress the warning\n",
      "  super()._check_params_vs_input(X, default_n_init=10)\n",
      "C:\\anaconda\\Lib\\site-packages\\sklearn\\cluster\\_kmeans.py:1412: FutureWarning: The default value of `n_init` will change from 10 to 'auto' in 1.4. Set the value of `n_init` explicitly to suppress the warning\n",
      "  super()._check_params_vs_input(X, default_n_init=10)\n",
      "C:\\anaconda\\Lib\\site-packages\\sklearn\\cluster\\_kmeans.py:1412: FutureWarning: The default value of `n_init` will change from 10 to 'auto' in 1.4. Set the value of `n_init` explicitly to suppress the warning\n",
      "  super()._check_params_vs_input(X, default_n_init=10)\n",
      "C:\\anaconda\\Lib\\site-packages\\sklearn\\cluster\\_kmeans.py:1412: FutureWarning: The default value of `n_init` will change from 10 to 'auto' in 1.4. Set the value of `n_init` explicitly to suppress the warning\n",
      "  super()._check_params_vs_input(X, default_n_init=10)\n",
      "C:\\anaconda\\Lib\\site-packages\\sklearn\\cluster\\_kmeans.py:1412: FutureWarning: The default value of `n_init` will change from 10 to 'auto' in 1.4. Set the value of `n_init` explicitly to suppress the warning\n",
      "  super()._check_params_vs_input(X, default_n_init=10)\n",
      "C:\\anaconda\\Lib\\site-packages\\sklearn\\cluster\\_kmeans.py:1412: FutureWarning: The default value of `n_init` will change from 10 to 'auto' in 1.4. Set the value of `n_init` explicitly to suppress the warning\n",
      "  super()._check_params_vs_input(X, default_n_init=10)\n",
      "C:\\anaconda\\Lib\\site-packages\\sklearn\\cluster\\_kmeans.py:1412: FutureWarning: The default value of `n_init` will change from 10 to 'auto' in 1.4. Set the value of `n_init` explicitly to suppress the warning\n",
      "  super()._check_params_vs_input(X, default_n_init=10)\n",
      "C:\\anaconda\\Lib\\site-packages\\sklearn\\cluster\\_kmeans.py:1412: FutureWarning: The default value of `n_init` will change from 10 to 'auto' in 1.4. Set the value of `n_init` explicitly to suppress the warning\n",
      "  super()._check_params_vs_input(X, default_n_init=10)\n",
      "C:\\anaconda\\Lib\\site-packages\\sklearn\\cluster\\_kmeans.py:1412: FutureWarning: The default value of `n_init` will change from 10 to 'auto' in 1.4. Set the value of `n_init` explicitly to suppress the warning\n",
      "  super()._check_params_vs_input(X, default_n_init=10)\n",
      "C:\\anaconda\\Lib\\site-packages\\sklearn\\cluster\\_kmeans.py:1412: FutureWarning: The default value of `n_init` will change from 10 to 'auto' in 1.4. Set the value of `n_init` explicitly to suppress the warning\n",
      "  super()._check_params_vs_input(X, default_n_init=10)\n",
      "C:\\anaconda\\Lib\\site-packages\\sklearn\\cluster\\_kmeans.py:1412: FutureWarning: The default value of `n_init` will change from 10 to 'auto' in 1.4. Set the value of `n_init` explicitly to suppress the warning\n",
      "  super()._check_params_vs_input(X, default_n_init=10)\n",
      "C:\\anaconda\\Lib\\site-packages\\sklearn\\cluster\\_kmeans.py:1412: FutureWarning: The default value of `n_init` will change from 10 to 'auto' in 1.4. Set the value of `n_init` explicitly to suppress the warning\n",
      "  super()._check_params_vs_input(X, default_n_init=10)\n",
      "C:\\anaconda\\Lib\\site-packages\\sklearn\\cluster\\_kmeans.py:1412: FutureWarning: The default value of `n_init` will change from 10 to 'auto' in 1.4. Set the value of `n_init` explicitly to suppress the warning\n",
      "  super()._check_params_vs_input(X, default_n_init=10)\n",
      "C:\\anaconda\\Lib\\site-packages\\sklearn\\cluster\\_kmeans.py:1412: FutureWarning: The default value of `n_init` will change from 10 to 'auto' in 1.4. Set the value of `n_init` explicitly to suppress the warning\n",
      "  super()._check_params_vs_input(X, default_n_init=10)\n",
      "C:\\anaconda\\Lib\\site-packages\\sklearn\\cluster\\_kmeans.py:1412: FutureWarning: The default value of `n_init` will change from 10 to 'auto' in 1.4. Set the value of `n_init` explicitly to suppress the warning\n",
      "  super()._check_params_vs_input(X, default_n_init=10)\n",
      "C:\\anaconda\\Lib\\site-packages\\sklearn\\cluster\\_kmeans.py:1412: FutureWarning: The default value of `n_init` will change from 10 to 'auto' in 1.4. Set the value of `n_init` explicitly to suppress the warning\n",
      "  super()._check_params_vs_input(X, default_n_init=10)\n",
      "C:\\anaconda\\Lib\\site-packages\\sklearn\\cluster\\_kmeans.py:1412: FutureWarning: The default value of `n_init` will change from 10 to 'auto' in 1.4. Set the value of `n_init` explicitly to suppress the warning\n",
      "  super()._check_params_vs_input(X, default_n_init=10)\n",
      "C:\\anaconda\\Lib\\site-packages\\sklearn\\cluster\\_kmeans.py:1412: FutureWarning: The default value of `n_init` will change from 10 to 'auto' in 1.4. Set the value of `n_init` explicitly to suppress the warning\n",
      "  super()._check_params_vs_input(X, default_n_init=10)\n",
      "C:\\anaconda\\Lib\\site-packages\\sklearn\\cluster\\_kmeans.py:1412: FutureWarning: The default value of `n_init` will change from 10 to 'auto' in 1.4. Set the value of `n_init` explicitly to suppress the warning\n",
      "  super()._check_params_vs_input(X, default_n_init=10)\n",
      "C:\\anaconda\\Lib\\site-packages\\sklearn\\cluster\\_kmeans.py:1412: FutureWarning: The default value of `n_init` will change from 10 to 'auto' in 1.4. Set the value of `n_init` explicitly to suppress the warning\n",
      "  super()._check_params_vs_input(X, default_n_init=10)\n"
     ]
    },
    {
     "data": {
      "text/plain": [
       "Text(0.5, 1.0, 'Elbow Method showing the optimal k')"
      ]
     },
     "execution_count": 44,
     "metadata": {},
     "output_type": "execute_result"
    },
    {
     "data": {
      "image/png": "[encoded data removed]",
      "text/plain": [
       "<Figure size 1600x800 with 1 Axes>"
      ]
     },
     "metadata": {},
     "output_type": "display_data"
    }
   ],
   "source": [
    "import numpy as np\n",
    "K = range(2, 50)\n",
    "inertia = []\n",
    "\n",
    "for k in K:\n",
    "    kmeans = KMeans(n_clusters=k,\n",
    "                    random_state=1234)\n",
    "    kmeans.fit(full_audio_songs_scaled)\n",
    "    inertia.append(kmeans.inertia_)\n",
    "\n",
    "import matplotlib.pyplot as plt\n",
    "%matplotlib inline\n",
    "\n",
    "plt.figure(figsize=(16,8))\n",
    "plt.plot(K, inertia, 'bx-')\n",
    "plt.xlabel('k')\n",
    "plt.ylabel('inertia')\n",
    "plt.xticks(np.arange(min(K), max(K)+1, 1.0))\n",
    "plt.title('Elbow Method showing the optimal k')"
   ]
  },
  {
   "cell_type": "code",
   "execution_count": null,
   "id": "e37d33ef-04f5-41ab-8cdf-787d62171498",
   "metadata": {},
   "outputs": [],
   "source": [
    "# optimal number of clusters seems to be 8 for my data"
   ]
  },
  {
   "cell_type": "code",
   "execution_count": null,
   "id": "0f7f7dae-086b-4fce-9454-46209d1002d4",
   "metadata": {},
   "outputs": [],
   "source": [
    "# With a higher number of clusters the inertia value will be lower"
   ]
  },
  {
   "cell_type": "code",
   "execution_count": 45,
   "id": "ed82d9d8-06a0-4691-a008-8a04f3297804",
   "metadata": {},
   "outputs": [
    {
     "name": "stderr",
     "output_type": "stream",
     "text": [
      "C:\\anaconda\\Lib\\site-packages\\sklearn\\cluster\\_kmeans.py:1412: FutureWarning: The default value of `n_init` will change from 10 to 'auto' in 1.4. Set the value of `n_init` explicitly to suppress the warning\n",
      "  super()._check_params_vs_input(X, default_n_init=10)\n",
      "C:\\anaconda\\Lib\\site-packages\\sklearn\\cluster\\_kmeans.py:1412: FutureWarning: The default value of `n_init` will change from 10 to 'auto' in 1.4. Set the value of `n_init` explicitly to suppress the warning\n",
      "  super()._check_params_vs_input(X, default_n_init=10)\n",
      "C:\\anaconda\\Lib\\site-packages\\sklearn\\cluster\\_kmeans.py:1412: FutureWarning: The default value of `n_init` will change from 10 to 'auto' in 1.4. Set the value of `n_init` explicitly to suppress the warning\n",
      "  super()._check_params_vs_input(X, default_n_init=10)\n",
      "C:\\anaconda\\Lib\\site-packages\\sklearn\\cluster\\_kmeans.py:1412: FutureWarning: The default value of `n_init` will change from 10 to 'auto' in 1.4. Set the value of `n_init` explicitly to suppress the warning\n",
      "  super()._check_params_vs_input(X, default_n_init=10)\n",
      "C:\\anaconda\\Lib\\site-packages\\sklearn\\cluster\\_kmeans.py:1412: FutureWarning: The default value of `n_init` will change from 10 to 'auto' in 1.4. Set the value of `n_init` explicitly to suppress the warning\n",
      "  super()._check_params_vs_input(X, default_n_init=10)\n",
      "C:\\anaconda\\Lib\\site-packages\\sklearn\\cluster\\_kmeans.py:1412: FutureWarning: The default value of `n_init` will change from 10 to 'auto' in 1.4. Set the value of `n_init` explicitly to suppress the warning\n",
      "  super()._check_params_vs_input(X, default_n_init=10)\n",
      "C:\\anaconda\\Lib\\site-packages\\sklearn\\cluster\\_kmeans.py:1412: FutureWarning: The default value of `n_init` will change from 10 to 'auto' in 1.4. Set the value of `n_init` explicitly to suppress the warning\n",
      "  super()._check_params_vs_input(X, default_n_init=10)\n",
      "C:\\anaconda\\Lib\\site-packages\\sklearn\\cluster\\_kmeans.py:1412: FutureWarning: The default value of `n_init` will change from 10 to 'auto' in 1.4. Set the value of `n_init` explicitly to suppress the warning\n",
      "  super()._check_params_vs_input(X, default_n_init=10)\n",
      "C:\\anaconda\\Lib\\site-packages\\sklearn\\cluster\\_kmeans.py:1412: FutureWarning: The default value of `n_init` will change from 10 to 'auto' in 1.4. Set the value of `n_init` explicitly to suppress the warning\n",
      "  super()._check_params_vs_input(X, default_n_init=10)\n",
      "C:\\anaconda\\Lib\\site-packages\\sklearn\\cluster\\_kmeans.py:1412: FutureWarning: The default value of `n_init` will change from 10 to 'auto' in 1.4. Set the value of `n_init` explicitly to suppress the warning\n",
      "  super()._check_params_vs_input(X, default_n_init=10)\n",
      "C:\\anaconda\\Lib\\site-packages\\sklearn\\cluster\\_kmeans.py:1412: FutureWarning: The default value of `n_init` will change from 10 to 'auto' in 1.4. Set the value of `n_init` explicitly to suppress the warning\n",
      "  super()._check_params_vs_input(X, default_n_init=10)\n",
      "C:\\anaconda\\Lib\\site-packages\\sklearn\\cluster\\_kmeans.py:1412: FutureWarning: The default value of `n_init` will change from 10 to 'auto' in 1.4. Set the value of `n_init` explicitly to suppress the warning\n",
      "  super()._check_params_vs_input(X, default_n_init=10)\n",
      "C:\\anaconda\\Lib\\site-packages\\sklearn\\cluster\\_kmeans.py:1412: FutureWarning: The default value of `n_init` will change from 10 to 'auto' in 1.4. Set the value of `n_init` explicitly to suppress the warning\n",
      "  super()._check_params_vs_input(X, default_n_init=10)\n"
     ]
    },
    {
     "data": {
      "text/plain": [
       "Text(0.5, 1.0, 'Slhouette score showing the optimal k')"
      ]
     },
     "execution_count": 45,
     "metadata": {},
     "output_type": "execute_result"
    },
    {
     "data": {
      "image/png": "[encoded data removed]",
      "text/plain": [
       "<Figure size 1600x800 with 1 Axes>"
      ]
     },
     "metadata": {},
     "output_type": "display_data"
    }
   ],
   "source": [
    "from sklearn.metrics import silhouette_score\n",
    "K = range(2, 15)\n",
    "silhouette = []\n",
    "\n",
    "for k in K:\n",
    "    kmeans = KMeans(n_clusters=k,\n",
    "                    random_state=1234)\n",
    "    kmeans.fit(full_audio_songs_scaled)\n",
    "    silhouette.append(silhouette_score(full_audio_songs_scaled, kmeans.predict(full_audio_songs_scaled)))\n",
    "\n",
    "\n",
    "plt.figure(figsize=(16,8))\n",
    "plt.plot(K, silhouette, 'bx-')\n",
    "plt.xlabel('k')\n",
    "plt.ylabel('silhouette score')\n",
    "plt.xticks(np.arange(min(K), max(K)+1, 1.0))\n",
    "plt.title('Slhouette score showing the optimal k')"
   ]
  },
  {
   "cell_type": "code",
   "execution_count": 47,
   "id": "6139eb8d-3ea7-4000-9024-4a4a43e3ac23",
   "metadata": {},
   "outputs": [],
   "source": [
    "# Make decision on cluster number based on elbow method and silhouette score\n",
    "# In my shillouette score I can see multiple peaks\n",
    "# The first and highest is at 6, then I have another peak at 8, which is slightly lower, after this I have a strong decrease\n",
    "    # Since I decided for 8 in my elbowscore, and 8 is also a reasonable peak here, i will go with 8 clusters (6 would also make sense)"
   ]
  },
  {
   "cell_type": "code",
   "execution_count": null,
   "id": "76b6eaa2-f307-42d7-a5e8-b3d638819271",
   "metadata": {},
   "outputs": [],
   "source": []
  },
  {
   "cell_type": "code",
   "execution_count": 54,
   "id": "43870397-a4bc-4c4b-9e6c-cd31c5bd3956",
   "metadata": {},
   "outputs": [
    {
     "name": "stderr",
     "output_type": "stream",
     "text": [
      "C:\\anaconda\\Lib\\site-packages\\sklearn\\cluster\\_kmeans.py:1412: FutureWarning: The default value of `n_init` will change from 10 to 'auto' in 1.4. Set the value of `n_init` explicitly to suppress the warning\n",
      "  super()._check_params_vs_input(X, default_n_init=10)\n"
     ]
    },
    {
     "data": {
      "text/html": [
       "<style>#sk-container-id-3 {color: black;}#sk-container-id-3 pre{padding: 0;}#sk-container-id-3 div.sk-toggleable {background-color: white;}#sk-container-id-3 label.sk-toggleable__label {cursor: pointer;display: block;width: 100%;margin-bottom: 0;padding: 0.3em;box-sizing: border-box;text-align: center;}#sk-container-id-3 label.sk-toggleable__label-arrow:before {content: \"▸\";float: left;margin-right: 0.25em;color: #696969;}#sk-container-id-3 label.sk-toggleable__label-arrow:hover:before {color: black;}#sk-container-id-3 div.sk-estimator:hover label.sk-toggleable__label-arrow:before {color: black;}#sk-container-id-3 div.sk-toggleable__content {max-height: 0;max-width: 0;overflow: hidden;text-align: left;background-color: #f0f8ff;}#sk-container-id-3 div.sk-toggleable__content pre {margin: 0.2em;color: black;border-radius: 0.25em;background-color: #f0f8ff;}#sk-container-id-3 input.sk-toggleable__control:checked~div.sk-toggleable__content {max-height: 200px;max-width: 100%;overflow: auto;}#sk-container-id-3 input.sk-toggleable__control:checked~label.sk-toggleable__label-arrow:before {content: \"▾\";}#sk-container-id-3 div.sk-estimator input.sk-toggleable__control:checked~label.sk-toggleable__label {background-color: #d4ebff;}#sk-container-id-3 div.sk-label input.sk-toggleable__control:checked~label.sk-toggleable__label {background-color: #d4ebff;}#sk-container-id-3 input.sk-hidden--visually {border: 0;clip: rect(1px 1px 1px 1px);clip: rect(1px, 1px, 1px, 1px);height: 1px;margin: -1px;overflow: hidden;padding: 0;position: absolute;width: 1px;}#sk-container-id-3 div.sk-estimator {font-family: monospace;background-color: #f0f8ff;border: 1px dotted black;border-radius: 0.25em;box-sizing: border-box;margin-bottom: 0.5em;}#sk-container-id-3 div.sk-estimator:hover {background-color: #d4ebff;}#sk-container-id-3 div.sk-parallel-item::after {content: \"\";width: 100%;border-bottom: 1px solid gray;flex-grow: 1;}#sk-container-id-3 div.sk-label:hover label.sk-toggleable__label {background-color: #d4ebff;}#sk-container-id-3 div.sk-serial::before {content: \"\";position: absolute;border-left: 1px solid gray;box-sizing: border-box;top: 0;bottom: 0;left: 50%;z-index: 0;}#sk-container-id-3 div.sk-serial {display: flex;flex-direction: column;align-items: center;background-color: white;padding-right: 0.2em;padding-left: 0.2em;position: relative;}#sk-container-id-3 div.sk-item {position: relative;z-index: 1;}#sk-container-id-3 div.sk-parallel {display: flex;align-items: stretch;justify-content: center;background-color: white;position: relative;}#sk-container-id-3 div.sk-item::before, #sk-container-id-3 div.sk-parallel-item::before {content: \"\";position: absolute;border-left: 1px solid gray;box-sizing: border-box;top: 0;bottom: 0;left: 50%;z-index: -1;}#sk-container-id-3 div.sk-parallel-item {display: flex;flex-direction: column;z-index: 1;position: relative;background-color: white;}#sk-container-id-3 div.sk-parallel-item:first-child::after {align-self: flex-end;width: 50%;}#sk-container-id-3 div.sk-parallel-item:last-child::after {align-self: flex-start;width: 50%;}#sk-container-id-3 div.sk-parallel-item:only-child::after {width: 0;}#sk-container-id-3 div.sk-dashed-wrapped {border: 1px dashed gray;margin: 0 0.4em 0.5em 0.4em;box-sizing: border-box;padding-bottom: 0.4em;background-color: white;}#sk-container-id-3 div.sk-label label {font-family: monospace;font-weight: bold;display: inline-block;line-height: 1.2em;}#sk-container-id-3 div.sk-label-container {text-align: center;}#sk-container-id-3 div.sk-container {/* jupyter's `normalize.less` sets `[hidden] { display: none; }` but bootstrap.min.css set `[hidden] { display: none !important; }` so we also need the `!important` here to be able to override the default hidden behavior on the sphinx rendered scikit-learn.org. See: https://github.com/scikit-learn/scikit-learn/issues/21755 */display: inline-block !important;position: relative;}#sk-container-id-3 div.sk-text-repr-fallback {display: none;}</style><div id=\"sk-container-id-3\" class=\"sk-top-container\"><div class=\"sk-text-repr-fallback\"><pre>KMeans(random_state=1234)</pre><b>In a Jupyter environment, please rerun this cell to show the HTML representation or trust the notebook. <br />On GitHub, the HTML representation is unable to render, please try loading this page with nbviewer.org.</b></div><div class=\"sk-container\" hidden><div class=\"sk-item\"><div class=\"sk-estimator sk-toggleable\"><input class=\"sk-toggleable__control sk-hidden--visually\" id=\"sk-estimator-id-3\" type=\"checkbox\" checked><label for=\"sk-estimator-id-3\" class=\"sk-toggleable__label sk-toggleable__label-arrow\">KMeans</label><div class=\"sk-toggleable__content\"><pre>KMeans(random_state=1234)</pre></div></div></div></div></div>"
      ],
      "text/plain": [
       "KMeans(random_state=1234)"
      ]
     },
     "execution_count": 54,
     "metadata": {},
     "output_type": "execute_result"
    }
   ],
   "source": [
    "# I fit it here on 8 clusters, based on elbow- and silhouette score. \n",
    "\n",
    "from sklearn.cluster import KMeans\n",
    "\n",
    "kmeans = KMeans(n_clusters=8, random_state=1234)\n",
    "kmeans.fit(full_audio_songs_scaled)"
   ]
  },
  {
   "cell_type": "code",
   "execution_count": null,
   "id": "a74893e5-8b88-4301-a02a-90a569e2260a",
   "metadata": {},
   "outputs": [],
   "source": []
  },
  {
   "cell_type": "code",
   "execution_count": 55,
   "id": "c928bb78-1b11-472c-92b5-d89c2c992c98",
   "metadata": {},
   "outputs": [
    {
     "data": {
      "text/plain": [
       "0    4208\n",
       "1    6037\n",
       "2     719\n",
       "3     894\n",
       "4    5465\n",
       "5    2874\n",
       "6    1778\n",
       "7    1273\n",
       "Name: count, dtype: int64"
      ]
     },
     "execution_count": 55,
     "metadata": {},
     "output_type": "execute_result"
    }
   ],
   "source": [
    "# Predicting / assigning the clusters:\n",
    "# Assign the values to clusters (for each point assign a cluster number with predict)\n",
    "# Probable outcome are clusters with similiar size?\n",
    "clusters = kmeans.predict(full_audio_songs_scaled)\n",
    "\n",
    "# Check the size of the clusters\n",
    "pd.Series(clusters).value_counts().sort_index() "
   ]
  },
  {
   "cell_type": "code",
   "execution_count": null,
   "id": "d8b5750e-7f10-4cd2-a24d-210977ba3816",
   "metadata": {},
   "outputs": [],
   "source": [
    "# The sizes of the clusters differ signficantly (cluster three 719 as smallest, vs clsuter 1 with 6037 biggest cluster)"
   ]
  },
  {
   "cell_type": "code",
   "execution_count": 56,
   "id": "cf6ff2fc-9683-48ef-a5cd-7d30f929b926",
   "metadata": {},
   "outputs": [
    {
     "data": {
      "text/plain": [
       "181413.56878411883"
      ]
     },
     "execution_count": 56,
     "metadata": {},
     "output_type": "execute_result"
    }
   ],
   "source": [
    "# Only relevant for different k-mean models with the same data (as comparison value)\n",
    "kmeans.inertia_ "
   ]
  },
  {
   "cell_type": "code",
   "execution_count": 63,
   "id": "342590b2-a5f4-4e05-b862-a80f0cee7ae0",
   "metadata": {},
   "outputs": [
    {
     "data": {
      "text/html": [
       "<div>\n",
       "<style scoped>\n",
       "    .dataframe tbody tr th:only-of-type {\n",
       "        vertical-align: middle;\n",
       "    }\n",
       "\n",
       "    .dataframe tbody tr th {\n",
       "        vertical-align: top;\n",
       "    }\n",
       "\n",
       "    .dataframe thead th {\n",
       "        text-align: right;\n",
       "    }\n",
       "</style>\n",
       "<table border=\"1\" class=\"dataframe\">\n",
       "  <thead>\n",
       "    <tr style=\"text-align: right;\">\n",
       "      <th></th>\n",
       "      <th>danceability</th>\n",
       "      <th>energy</th>\n",
       "      <th>key</th>\n",
       "      <th>loudness</th>\n",
       "      <th>mode</th>\n",
       "      <th>speechiness</th>\n",
       "      <th>acousticness</th>\n",
       "      <th>instrumentalness</th>\n",
       "      <th>liveness</th>\n",
       "      <th>valence</th>\n",
       "      <th>tempo</th>\n",
       "      <th>duration_ms</th>\n",
       "      <th>time_signature</th>\n",
       "      <th>clusters</th>\n",
       "    </tr>\n",
       "  </thead>\n",
       "  <tbody>\n",
       "    <tr>\n",
       "      <th>0</th>\n",
       "      <td>0.638</td>\n",
       "      <td>0.826</td>\n",
       "      <td>8.0</td>\n",
       "      <td>-4.968</td>\n",
       "      <td>1.0</td>\n",
       "      <td>0.0479</td>\n",
       "      <td>0.13900</td>\n",
       "      <td>0.000000</td>\n",
       "      <td>0.0803</td>\n",
       "      <td>0.649</td>\n",
       "      <td>124.072</td>\n",
       "      <td>227880.0</td>\n",
       "      <td>4.0</td>\n",
       "      <td>1</td>\n",
       "    </tr>\n",
       "    <tr>\n",
       "      <th>1</th>\n",
       "      <td>0.397</td>\n",
       "      <td>0.817</td>\n",
       "      <td>2.0</td>\n",
       "      <td>-5.495</td>\n",
       "      <td>1.0</td>\n",
       "      <td>0.0420</td>\n",
       "      <td>0.09660</td>\n",
       "      <td>0.000008</td>\n",
       "      <td>0.3160</td>\n",
       "      <td>0.416</td>\n",
       "      <td>158.004</td>\n",
       "      <td>266227.0</td>\n",
       "      <td>4.0</td>\n",
       "      <td>0</td>\n",
       "    </tr>\n",
       "    <tr>\n",
       "      <th>2</th>\n",
       "      <td>0.384</td>\n",
       "      <td>0.527</td>\n",
       "      <td>11.0</td>\n",
       "      <td>-5.294</td>\n",
       "      <td>0.0</td>\n",
       "      <td>0.0269</td>\n",
       "      <td>0.54200</td>\n",
       "      <td>0.000000</td>\n",
       "      <td>0.1560</td>\n",
       "      <td>0.222</td>\n",
       "      <td>100.730</td>\n",
       "      <td>221200.0</td>\n",
       "      <td>3.0</td>\n",
       "      <td>3</td>\n",
       "    </tr>\n",
       "    <tr>\n",
       "      <th>3</th>\n",
       "      <td>0.608</td>\n",
       "      <td>0.629</td>\n",
       "      <td>10.0</td>\n",
       "      <td>-5.024</td>\n",
       "      <td>1.0</td>\n",
       "      <td>0.0264</td>\n",
       "      <td>0.42300</td>\n",
       "      <td>0.000000</td>\n",
       "      <td>0.0978</td>\n",
       "      <td>0.325</td>\n",
       "      <td>99.953</td>\n",
       "      <td>241467.0</td>\n",
       "      <td>4.0</td>\n",
       "      <td>0</td>\n",
       "    </tr>\n",
       "    <tr>\n",
       "      <th>4</th>\n",
       "      <td>0.729</td>\n",
       "      <td>0.756</td>\n",
       "      <td>8.0</td>\n",
       "      <td>-5.119</td>\n",
       "      <td>1.0</td>\n",
       "      <td>0.0294</td>\n",
       "      <td>0.13100</td>\n",
       "      <td>0.000000</td>\n",
       "      <td>0.0527</td>\n",
       "      <td>0.522</td>\n",
       "      <td>104.945</td>\n",
       "      <td>228293.0</td>\n",
       "      <td>4.0</td>\n",
       "      <td>1</td>\n",
       "    </tr>\n",
       "    <tr>\n",
       "      <th>...</th>\n",
       "      <td>...</td>\n",
       "      <td>...</td>\n",
       "      <td>...</td>\n",
       "      <td>...</td>\n",
       "      <td>...</td>\n",
       "      <td>...</td>\n",
       "      <td>...</td>\n",
       "      <td>...</td>\n",
       "      <td>...</td>\n",
       "      <td>...</td>\n",
       "      <td>...</td>\n",
       "      <td>...</td>\n",
       "      <td>...</td>\n",
       "      <td>...</td>\n",
       "    </tr>\n",
       "    <tr>\n",
       "      <th>23244</th>\n",
       "      <td>0.439</td>\n",
       "      <td>0.610</td>\n",
       "      <td>9.0</td>\n",
       "      <td>-7.236</td>\n",
       "      <td>1.0</td>\n",
       "      <td>0.1160</td>\n",
       "      <td>0.59300</td>\n",
       "      <td>0.000011</td>\n",
       "      <td>0.3410</td>\n",
       "      <td>0.172</td>\n",
       "      <td>181.088</td>\n",
       "      <td>215508.0</td>\n",
       "      <td>4.0</td>\n",
       "      <td>0</td>\n",
       "    </tr>\n",
       "    <tr>\n",
       "      <th>23245</th>\n",
       "      <td>0.897</td>\n",
       "      <td>0.371</td>\n",
       "      <td>1.0</td>\n",
       "      <td>-5.019</td>\n",
       "      <td>1.0</td>\n",
       "      <td>0.3680</td>\n",
       "      <td>0.09040</td>\n",
       "      <td>0.000000</td>\n",
       "      <td>0.3250</td>\n",
       "      <td>0.441</td>\n",
       "      <td>81.008</td>\n",
       "      <td>156005.0</td>\n",
       "      <td>4.0</td>\n",
       "      <td>6</td>\n",
       "    </tr>\n",
       "    <tr>\n",
       "      <th>23246</th>\n",
       "      <td>0.964</td>\n",
       "      <td>0.398</td>\n",
       "      <td>11.0</td>\n",
       "      <td>-8.981</td>\n",
       "      <td>0.0</td>\n",
       "      <td>0.0795</td>\n",
       "      <td>0.00151</td>\n",
       "      <td>0.000039</td>\n",
       "      <td>0.1010</td>\n",
       "      <td>0.563</td>\n",
       "      <td>105.012</td>\n",
       "      <td>178405.0</td>\n",
       "      <td>4.0</td>\n",
       "      <td>4</td>\n",
       "    </tr>\n",
       "    <tr>\n",
       "      <th>23247</th>\n",
       "      <td>0.964</td>\n",
       "      <td>0.398</td>\n",
       "      <td>11.0</td>\n",
       "      <td>-8.981</td>\n",
       "      <td>0.0</td>\n",
       "      <td>0.0795</td>\n",
       "      <td>0.00151</td>\n",
       "      <td>0.000039</td>\n",
       "      <td>0.1010</td>\n",
       "      <td>0.563</td>\n",
       "      <td>105.012</td>\n",
       "      <td>178405.0</td>\n",
       "      <td>4.0</td>\n",
       "      <td>4</td>\n",
       "    </tr>\n",
       "    <tr>\n",
       "      <th>23248</th>\n",
       "      <td>0.653</td>\n",
       "      <td>0.524</td>\n",
       "      <td>11.0</td>\n",
       "      <td>-9.016</td>\n",
       "      <td>0.0</td>\n",
       "      <td>0.0502</td>\n",
       "      <td>0.11200</td>\n",
       "      <td>0.000000</td>\n",
       "      <td>0.2030</td>\n",
       "      <td>0.553</td>\n",
       "      <td>83.970</td>\n",
       "      <td>160191.0</td>\n",
       "      <td>4.0</td>\n",
       "      <td>4</td>\n",
       "    </tr>\n",
       "  </tbody>\n",
       "</table>\n",
       "<p>23248 rows × 14 columns</p>\n",
       "</div>"
      ],
      "text/plain": [
       "       danceability  energy   key  loudness  mode  speechiness  acousticness  \\\n",
       "0             0.638   0.826   8.0    -4.968   1.0       0.0479       0.13900   \n",
       "1             0.397   0.817   2.0    -5.495   1.0       0.0420       0.09660   \n",
       "2             0.384   0.527  11.0    -5.294   0.0       0.0269       0.54200   \n",
       "3             0.608   0.629  10.0    -5.024   1.0       0.0264       0.42300   \n",
       "4             0.729   0.756   8.0    -5.119   1.0       0.0294       0.13100   \n",
       "...             ...     ...   ...       ...   ...          ...           ...   \n",
       "23244         0.439   0.610   9.0    -7.236   1.0       0.1160       0.59300   \n",
       "23245         0.897   0.371   1.0    -5.019   1.0       0.3680       0.09040   \n",
       "23246         0.964   0.398  11.0    -8.981   0.0       0.0795       0.00151   \n",
       "23247         0.964   0.398  11.0    -8.981   0.0       0.0795       0.00151   \n",
       "23248         0.653   0.524  11.0    -9.016   0.0       0.0502       0.11200   \n",
       "\n",
       "       instrumentalness  liveness  valence    tempo  duration_ms  \\\n",
       "0              0.000000    0.0803    0.649  124.072     227880.0   \n",
       "1              0.000008    0.3160    0.416  158.004     266227.0   \n",
       "2              0.000000    0.1560    0.222  100.730     221200.0   \n",
       "3              0.000000    0.0978    0.325   99.953     241467.0   \n",
       "4              0.000000    0.0527    0.522  104.945     228293.0   \n",
       "...                 ...       ...      ...      ...          ...   \n",
       "23244          0.000011    0.3410    0.172  181.088     215508.0   \n",
       "23245          0.000000    0.3250    0.441   81.008     156005.0   \n",
       "23246          0.000039    0.1010    0.563  105.012     178405.0   \n",
       "23247          0.000039    0.1010    0.563  105.012     178405.0   \n",
       "23248          0.000000    0.2030    0.553   83.970     160191.0   \n",
       "\n",
       "       time_signature  clusters  \n",
       "0                 4.0         1  \n",
       "1                 4.0         0  \n",
       "2                 3.0         3  \n",
       "3                 4.0         0  \n",
       "4                 4.0         1  \n",
       "...               ...       ...  \n",
       "23244             4.0         0  \n",
       "23245             4.0         6  \n",
       "23246             4.0         4  \n",
       "23247             4.0         4  \n",
       "23248             4.0         4  \n",
       "\n",
       "[23248 rows x 14 columns]"
      ]
     },
     "execution_count": 63,
     "metadata": {},
     "output_type": "execute_result"
    }
   ],
   "source": [
    "full_audio_songs_clustered = full_audio_songs.assign(clusters = clusters)\n",
    "full_audio_songs_clustered"
   ]
  },
  {
   "cell_type": "code",
   "execution_count": null,
   "id": "e17f5e74-f327-4ff5-9102-e1e46144d342",
   "metadata": {},
   "outputs": [],
   "source": []
  },
  {
   "cell_type": "code",
   "execution_count": null,
   "id": "939bcb35-0247-44c7-a9f5-6fc6e5fbfd70",
   "metadata": {},
   "outputs": [],
   "source": []
  },
  {
   "cell_type": "code",
   "execution_count": null,
   "id": "c242c1de-90c8-41d3-8e7e-ada0b8144b43",
   "metadata": {},
   "outputs": [],
   "source": []
  },
  {
   "cell_type": "code",
   "execution_count": null,
   "id": "05c7d6b2-b63c-48eb-ac66-e73d9c7f9046",
   "metadata": {},
   "outputs": [],
   "source": []
  }
 ],
 "metadata": {
  "kernelspec": {
   "display_name": "Python 3 (ipykernel)",
   "language": "python",
   "name": "python3"
  },
  "language_info": {
   "codemirror_mode": {
    "name": "ipython",
    "version": 3
   },
   "file_extension": ".py",
   "mimetype": "text/x-python",
   "name": "python",
   "nbconvert_exporter": "python",
   "pygments_lexer": "ipython3",
   "version": "3.11.5"
  }
 },
 "nbformat": 4,
 "nbformat_minor": 5
}
