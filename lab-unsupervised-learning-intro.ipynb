{
 "cells": [
  {
   "cell_type": "markdown",
   "id": "f05442b0-9f01-45b4-9ecb-38d91a60c9ad",
   "metadata": {},
   "source": [
    "# lab-unsupervised-learning-intro"
   ]
  },
  {
   "cell_type": "code",
   "execution_count": 21,
   "id": "b323e622-f285-4463-8266-68a7f35ddcfd",
   "metadata": {},
   "outputs": [],
   "source": [
    "# You want to send the Spotify audio features of the submitted song to the clustering model, which should return a cluster number.\n",
    "    # My task now is to cluster the songs from my songs_all csv (with audio features)\n",
    "    # Cluster all the songs (Use K-mean clustering it has the preddict function for new and unseen songs)\n",
    "        # each song will come out with a cluster number\n",
    "        # match up the cluster number with the song title\n",
    "        # Use your model on a single soong (do not refit it, do not recluster anything)\n",
    "            # Cluster this one song that was input in your song recommender (assign to cluster X)\n",
    "        # Ia m not going to check if the inout song is actually in my songs_all, I just recommend a similar one according to the audio features"
   ]
  },
  {
   "cell_type": "code",
   "execution_count": null,
   "id": "bee2e2e5-3550-494a-9299-6fee8a4051e0",
   "metadata": {},
   "outputs": [],
   "source": []
  },
  {
   "cell_type": "code",
   "execution_count": 1,
   "id": "cd9b6117-708f-4b34-a79e-4ac80e8c083e",
   "metadata": {},
   "outputs": [],
   "source": [
    "import pandas as pd"
   ]
  },
  {
   "cell_type": "markdown",
   "id": "c596c0e4-b75b-4684-8c08-13893ec1baa0",
   "metadata": {},
   "source": [
    "Establish the connection to Spotify"
   ]
  },
  {
   "cell_type": "code",
   "execution_count": 4,
   "id": "11dd26cd-ab6f-44da-9091-ca47cac4935d",
   "metadata": {},
   "outputs": [],
   "source": [
    "import spotipy\n",
    "from spotipy.oauth2 import SpotifyClientCredentials"
   ]
  },
  {
   "cell_type": "code",
   "execution_count": 7,
   "id": "5a6ada30-1094-42e8-a73c-2e9a6e36f273",
   "metadata": {},
   "outputs": [],
   "source": [
    "secrets_file = open(\"secrets-Copy1.txt\",\"r\")"
   ]
  },
  {
   "cell_type": "code",
   "execution_count": 8,
   "id": "2857dc33-4317-4fa2-a3d6-9c14b50d3b46",
   "metadata": {},
   "outputs": [],
   "source": [
    "string = secrets_file.read()"
   ]
  },
  {
   "cell_type": "code",
   "execution_count": 9,
   "id": "21598377-e8ce-4ac6-8e67-076e58bef842",
   "metadata": {},
   "outputs": [],
   "source": [
    "secrets_dict={}\n",
    "for line in string.split('\\n'):\n",
    "    if len(line) > 0:\n",
    "        #print(line.split(':'))\n",
    "        secrets_dict[line.split(':')[0]]=line.split(':')[1].strip()"
   ]
  },
  {
   "cell_type": "code",
   "execution_count": null,
   "id": "1a28b87a-a702-4db8-b42e-ba712f074ea9",
   "metadata": {},
   "outputs": [],
   "source": [
    "# authentification with secrets"
   ]
  },
  {
   "cell_type": "code",
   "execution_count": 10,
   "id": "2b2c41ce-4a42-45aa-bd8a-05feda0d209e",
   "metadata": {},
   "outputs": [],
   "source": [
    "# This creates actually the connection to spotify (spotify wrapper is called sp)\n",
    "# It uses the key client id to substitue the id\n",
    "# It will substitue secret\n",
    "#Initialize SpotiPy with user credentials\n",
    "sp = spotipy.Spotify(auth_manager=SpotifyClientCredentials(client_id=secrets_dict['clientid'],\n",
    "                                                           client_secret=secrets_dict['clientsecret']))"
   ]
  },
  {
   "cell_type": "markdown",
   "id": "c7621d0b-328e-45e5-a048-4886eed031d2",
   "metadata": {},
   "source": [
    "Load my audio features as songs_all form CSV file into lab-unsupervised-learning-intro"
   ]
  },
  {
   "cell_type": "code",
   "execution_count": 11,
   "id": "bdbe8775-e6c1-4320-9dce-b2c9f0b12be9",
   "metadata": {},
   "outputs": [],
   "source": [
    "full_audio_songs = pd.read_csv(\"songs_all-Copy1.csv\")"
   ]
  },
  {
   "cell_type": "markdown",
   "id": "63a9e930-270f-4fef-9c4f-69bbba32b7cb",
   "metadata": {},
   "source": [
    "Load my Hot songs from CSV file into lab-unsupervised-learning-intro"
   ]
  },
  {
   "cell_type": "code",
   "execution_count": 12,
   "id": "a86a707e-16b7-477c-b896-c4e245fced3b",
   "metadata": {},
   "outputs": [],
   "source": [
    "hot_songs = pd.read_csv(\"hot_songs-Copy1.csv\")"
   ]
  },
  {
   "cell_type": "code",
   "execution_count": 13,
   "id": "5bb8f376-5368-4c57-9188-24085d316be5",
   "metadata": {},
   "outputs": [],
   "source": [
    "# Look at the data"
   ]
  },
  {
   "cell_type": "code",
   "execution_count": 14,
   "id": "7adba9f4-dcd0-475f-aef6-8502cef44e5f",
   "metadata": {},
   "outputs": [
    {
     "data": {
      "text/html": [
       "<div>\n",
       "<style scoped>\n",
       "    .dataframe tbody tr th:only-of-type {\n",
       "        vertical-align: middle;\n",
       "    }\n",
       "\n",
       "    .dataframe tbody tr th {\n",
       "        vertical-align: top;\n",
       "    }\n",
       "\n",
       "    .dataframe thead th {\n",
       "        text-align: right;\n",
       "    }\n",
       "</style>\n",
       "<table border=\"1\" class=\"dataframe\">\n",
       "  <thead>\n",
       "    <tr style=\"text-align: right;\">\n",
       "      <th></th>\n",
       "      <th>track.name</th>\n",
       "      <th>name</th>\n",
       "      <th>song_id</th>\n",
       "      <th>danceability</th>\n",
       "      <th>energy</th>\n",
       "      <th>key</th>\n",
       "      <th>loudness</th>\n",
       "      <th>mode</th>\n",
       "      <th>speechiness</th>\n",
       "      <th>acousticness</th>\n",
       "      <th>...</th>\n",
       "      <th>liveness</th>\n",
       "      <th>valence</th>\n",
       "      <th>tempo</th>\n",
       "      <th>type</th>\n",
       "      <th>id</th>\n",
       "      <th>uri</th>\n",
       "      <th>track_href</th>\n",
       "      <th>analysis_url</th>\n",
       "      <th>duration_ms</th>\n",
       "      <th>time_signature</th>\n",
       "    </tr>\n",
       "  </thead>\n",
       "  <tbody>\n",
       "    <tr>\n",
       "      <th>0</th>\n",
       "      <td>Firework</td>\n",
       "      <td>Katy Perry</td>\n",
       "      <td>4lCv7b86sLynZbXhfScfm2</td>\n",
       "      <td>0.638</td>\n",
       "      <td>0.826</td>\n",
       "      <td>8.0</td>\n",
       "      <td>-4.968</td>\n",
       "      <td>1.0</td>\n",
       "      <td>0.0479</td>\n",
       "      <td>0.1390</td>\n",
       "      <td>...</td>\n",
       "      <td>0.0803</td>\n",
       "      <td>0.649</td>\n",
       "      <td>124.072</td>\n",
       "      <td>audio_features</td>\n",
       "      <td>4lCv7b86sLynZbXhfScfm2</td>\n",
       "      <td>spotify:track:4lCv7b86sLynZbXhfScfm2</td>\n",
       "      <td>https://api.spotify.com/v1/tracks/4lCv7b86sLyn...</td>\n",
       "      <td>https://api.spotify.com/v1/audio-analysis/4lCv...</td>\n",
       "      <td>227880.0</td>\n",
       "      <td>4.0</td>\n",
       "    </tr>\n",
       "    <tr>\n",
       "      <th>1</th>\n",
       "      <td>All We Are</td>\n",
       "      <td>OneRepublic</td>\n",
       "      <td>1Jx69b09LKTuBQxkEiFfVX</td>\n",
       "      <td>0.397</td>\n",
       "      <td>0.817</td>\n",
       "      <td>2.0</td>\n",
       "      <td>-5.495</td>\n",
       "      <td>1.0</td>\n",
       "      <td>0.0420</td>\n",
       "      <td>0.0966</td>\n",
       "      <td>...</td>\n",
       "      <td>0.3160</td>\n",
       "      <td>0.416</td>\n",
       "      <td>158.004</td>\n",
       "      <td>audio_features</td>\n",
       "      <td>1Jx69b09LKTuBQxkEiFfVX</td>\n",
       "      <td>spotify:track:1Jx69b09LKTuBQxkEiFfVX</td>\n",
       "      <td>https://api.spotify.com/v1/tracks/1Jx69b09LKTu...</td>\n",
       "      <td>https://api.spotify.com/v1/audio-analysis/1Jx6...</td>\n",
       "      <td>266227.0</td>\n",
       "      <td>4.0</td>\n",
       "    </tr>\n",
       "    <tr>\n",
       "      <th>2</th>\n",
       "      <td>Wake Up Alone</td>\n",
       "      <td>Amy Winehouse</td>\n",
       "      <td>4u83mwF5tUuWlXS86UOXdu</td>\n",
       "      <td>0.384</td>\n",
       "      <td>0.527</td>\n",
       "      <td>11.0</td>\n",
       "      <td>-5.294</td>\n",
       "      <td>0.0</td>\n",
       "      <td>0.0269</td>\n",
       "      <td>0.5420</td>\n",
       "      <td>...</td>\n",
       "      <td>0.1560</td>\n",
       "      <td>0.222</td>\n",
       "      <td>100.730</td>\n",
       "      <td>audio_features</td>\n",
       "      <td>4u83mwF5tUuWlXS86UOXdu</td>\n",
       "      <td>spotify:track:4u83mwF5tUuWlXS86UOXdu</td>\n",
       "      <td>https://api.spotify.com/v1/tracks/4u83mwF5tUuW...</td>\n",
       "      <td>https://api.spotify.com/v1/audio-analysis/4u83...</td>\n",
       "      <td>221200.0</td>\n",
       "      <td>3.0</td>\n",
       "    </tr>\n",
       "    <tr>\n",
       "      <th>3</th>\n",
       "      <td>The Man Who Can't Be Moved</td>\n",
       "      <td>The Script</td>\n",
       "      <td>4Musyaro0NM5Awx8b5c627</td>\n",
       "      <td>0.608</td>\n",
       "      <td>0.629</td>\n",
       "      <td>10.0</td>\n",
       "      <td>-5.024</td>\n",
       "      <td>1.0</td>\n",
       "      <td>0.0264</td>\n",
       "      <td>0.4230</td>\n",
       "      <td>...</td>\n",
       "      <td>0.0978</td>\n",
       "      <td>0.325</td>\n",
       "      <td>99.953</td>\n",
       "      <td>audio_features</td>\n",
       "      <td>4Musyaro0NM5Awx8b5c627</td>\n",
       "      <td>spotify:track:4Musyaro0NM5Awx8b5c627</td>\n",
       "      <td>https://api.spotify.com/v1/tracks/4Musyaro0NM5...</td>\n",
       "      <td>https://api.spotify.com/v1/audio-analysis/4Mus...</td>\n",
       "      <td>241467.0</td>\n",
       "      <td>4.0</td>\n",
       "    </tr>\n",
       "    <tr>\n",
       "      <th>4</th>\n",
       "      <td>Rolling in the Deep</td>\n",
       "      <td>Adele</td>\n",
       "      <td>1CkvWZme3pRgbzaxZnTl5X</td>\n",
       "      <td>0.729</td>\n",
       "      <td>0.756</td>\n",
       "      <td>8.0</td>\n",
       "      <td>-5.119</td>\n",
       "      <td>1.0</td>\n",
       "      <td>0.0294</td>\n",
       "      <td>0.1310</td>\n",
       "      <td>...</td>\n",
       "      <td>0.0527</td>\n",
       "      <td>0.522</td>\n",
       "      <td>104.945</td>\n",
       "      <td>audio_features</td>\n",
       "      <td>1CkvWZme3pRgbzaxZnTl5X</td>\n",
       "      <td>spotify:track:1CkvWZme3pRgbzaxZnTl5X</td>\n",
       "      <td>https://api.spotify.com/v1/tracks/1CkvWZme3pRg...</td>\n",
       "      <td>https://api.spotify.com/v1/audio-analysis/1Ckv...</td>\n",
       "      <td>228293.0</td>\n",
       "      <td>4.0</td>\n",
       "    </tr>\n",
       "  </tbody>\n",
       "</table>\n",
       "<p>5 rows × 21 columns</p>\n",
       "</div>"
      ],
      "text/plain": [
       "                   track.name           name                 song_id  \\\n",
       "0                    Firework     Katy Perry  4lCv7b86sLynZbXhfScfm2   \n",
       "1                  All We Are    OneRepublic  1Jx69b09LKTuBQxkEiFfVX   \n",
       "2               Wake Up Alone  Amy Winehouse  4u83mwF5tUuWlXS86UOXdu   \n",
       "3  The Man Who Can't Be Moved     The Script  4Musyaro0NM5Awx8b5c627   \n",
       "4         Rolling in the Deep          Adele  1CkvWZme3pRgbzaxZnTl5X   \n",
       "\n",
       "   danceability  energy   key  loudness  mode  speechiness  acousticness  ...  \\\n",
       "0         0.638   0.826   8.0    -4.968   1.0       0.0479        0.1390  ...   \n",
       "1         0.397   0.817   2.0    -5.495   1.0       0.0420        0.0966  ...   \n",
       "2         0.384   0.527  11.0    -5.294   0.0       0.0269        0.5420  ...   \n",
       "3         0.608   0.629  10.0    -5.024   1.0       0.0264        0.4230  ...   \n",
       "4         0.729   0.756   8.0    -5.119   1.0       0.0294        0.1310  ...   \n",
       "\n",
       "   liveness  valence    tempo            type                      id  \\\n",
       "0    0.0803    0.649  124.072  audio_features  4lCv7b86sLynZbXhfScfm2   \n",
       "1    0.3160    0.416  158.004  audio_features  1Jx69b09LKTuBQxkEiFfVX   \n",
       "2    0.1560    0.222  100.730  audio_features  4u83mwF5tUuWlXS86UOXdu   \n",
       "3    0.0978    0.325   99.953  audio_features  4Musyaro0NM5Awx8b5c627   \n",
       "4    0.0527    0.522  104.945  audio_features  1CkvWZme3pRgbzaxZnTl5X   \n",
       "\n",
       "                                    uri  \\\n",
       "0  spotify:track:4lCv7b86sLynZbXhfScfm2   \n",
       "1  spotify:track:1Jx69b09LKTuBQxkEiFfVX   \n",
       "2  spotify:track:4u83mwF5tUuWlXS86UOXdu   \n",
       "3  spotify:track:4Musyaro0NM5Awx8b5c627   \n",
       "4  spotify:track:1CkvWZme3pRgbzaxZnTl5X   \n",
       "\n",
       "                                          track_href  \\\n",
       "0  https://api.spotify.com/v1/tracks/4lCv7b86sLyn...   \n",
       "1  https://api.spotify.com/v1/tracks/1Jx69b09LKTu...   \n",
       "2  https://api.spotify.com/v1/tracks/4u83mwF5tUuW...   \n",
       "3  https://api.spotify.com/v1/tracks/4Musyaro0NM5...   \n",
       "4  https://api.spotify.com/v1/tracks/1CkvWZme3pRg...   \n",
       "\n",
       "                                        analysis_url duration_ms  \\\n",
       "0  https://api.spotify.com/v1/audio-analysis/4lCv...    227880.0   \n",
       "1  https://api.spotify.com/v1/audio-analysis/1Jx6...    266227.0   \n",
       "2  https://api.spotify.com/v1/audio-analysis/4u83...    221200.0   \n",
       "3  https://api.spotify.com/v1/audio-analysis/4Mus...    241467.0   \n",
       "4  https://api.spotify.com/v1/audio-analysis/1Ckv...    228293.0   \n",
       "\n",
       "   time_signature  \n",
       "0             4.0  \n",
       "1             4.0  \n",
       "2             3.0  \n",
       "3             4.0  \n",
       "4             4.0  \n",
       "\n",
       "[5 rows x 21 columns]"
      ]
     },
     "execution_count": 14,
     "metadata": {},
     "output_type": "execute_result"
    }
   ],
   "source": [
    "full_audio_songs.head()\n"
   ]
  },
  {
   "cell_type": "code",
   "execution_count": 17,
   "id": "80957f41-47e0-49ce-82d8-68f51b190d36",
   "metadata": {},
   "outputs": [
    {
     "data": {
      "text/plain": [
       "(23249, 21)"
      ]
     },
     "execution_count": 17,
     "metadata": {},
     "output_type": "execute_result"
    }
   ],
   "source": [
    "full_audio_songs.shape"
   ]
  },
  {
   "cell_type": "code",
   "execution_count": 15,
   "id": "113b38d6-d53f-459d-8c48-c500b68f31d1",
   "metadata": {},
   "outputs": [
    {
     "data": {
      "text/html": [
       "<div>\n",
       "<style scoped>\n",
       "    .dataframe tbody tr th:only-of-type {\n",
       "        vertical-align: middle;\n",
       "    }\n",
       "\n",
       "    .dataframe tbody tr th {\n",
       "        vertical-align: top;\n",
       "    }\n",
       "\n",
       "    .dataframe thead th {\n",
       "        text-align: right;\n",
       "    }\n",
       "</style>\n",
       "<table border=\"1\" class=\"dataframe\">\n",
       "  <thead>\n",
       "    <tr style=\"text-align: right;\">\n",
       "      <th></th>\n",
       "      <th>title</th>\n",
       "      <th>artist</th>\n",
       "    </tr>\n",
       "  </thead>\n",
       "  <tbody>\n",
       "    <tr>\n",
       "      <th>0</th>\n",
       "      <td>Lil Boo Thang</td>\n",
       "      <td>Paul Russell</td>\n",
       "    </tr>\n",
       "    <tr>\n",
       "      <th>1</th>\n",
       "      <td>Wrap Me Up</td>\n",
       "      <td>Jimmy Fallon &amp; Meghan Trainor</td>\n",
       "    </tr>\n",
       "    <tr>\n",
       "      <th>2</th>\n",
       "      <td>Lovin On Me</td>\n",
       "      <td>Jack Harlow</td>\n",
       "    </tr>\n",
       "    <tr>\n",
       "      <th>3</th>\n",
       "      <td>Find Your People</td>\n",
       "      <td>Drew Holcomb &amp; The Neighbors</td>\n",
       "    </tr>\n",
       "    <tr>\n",
       "      <th>4</th>\n",
       "      <td>DJ Play A Christmas Song</td>\n",
       "      <td>Cher</td>\n",
       "    </tr>\n",
       "  </tbody>\n",
       "</table>\n",
       "</div>"
      ],
      "text/plain": [
       "                      title                         artist\n",
       "0             Lil Boo Thang                   Paul Russell\n",
       "1                Wrap Me Up  Jimmy Fallon & Meghan Trainor\n",
       "2               Lovin On Me                    Jack Harlow\n",
       "3          Find Your People   Drew Holcomb & The Neighbors\n",
       "4  DJ Play A Christmas Song                           Cher"
      ]
     },
     "execution_count": 15,
     "metadata": {},
     "output_type": "execute_result"
    }
   ],
   "source": [
    "hot_songs.head()"
   ]
  },
  {
   "cell_type": "code",
   "execution_count": 16,
   "id": "7d44ebd2-81ca-4fee-86fc-e5fdd1432c25",
   "metadata": {},
   "outputs": [
    {
     "data": {
      "text/plain": [
       "(200, 2)"
      ]
     },
     "execution_count": 16,
     "metadata": {},
     "output_type": "execute_result"
    }
   ],
   "source": [
    "hot_songs.shape"
   ]
  },
  {
   "cell_type": "markdown",
   "id": "16c656de-f9da-4c01-afbc-e5c679e7b4c7",
   "metadata": {},
   "source": [
    "# KMeans"
   ]
  },
  {
   "cell_type": "code",
   "execution_count": null,
   "id": "38cb6aa8-a5cf-47f8-8b8b-aaf7fe5a405e",
   "metadata": {},
   "outputs": [],
   "source": [
    "# K-means\n",
    "import numpy as np\n",
    "import matplotlib.pyplot as plt\n",
    "\n",
    "from sklearn import cluster, datasets\n",
    "from sklearn.preprocessing import StandardScaler\n",
    "from matplotlib.lines import Line2D"
   ]
  },
  {
   "cell_type": "code",
   "execution_count": 24,
   "id": "3fbcb44e-06be-4bb6-b451-88c214bea330",
   "metadata": {},
   "outputs": [],
   "source": [
    "# Drop all the Null values\n",
    "full_audio_songs = full_audio_songs.dropna"
   ]
  },
  {
   "cell_type": "code",
   "execution_count": null,
   "id": "1f1b1609-e3d1-451a-b0b3-228904948b41",
   "metadata": {},
   "outputs": [],
   "source": [
    "# Differentiate in categorical and numerical columns \n",
    "    # K-means can only handle numerical"
   ]
  },
  {
   "cell_type": "code",
   "execution_count": 29,
   "id": "e7187a93-5b79-477f-9403-97d708acb099",
   "metadata": {},
   "outputs": [
    {
     "data": {
      "text/plain": [
       "method"
      ]
     },
     "execution_count": 29,
     "metadata": {},
     "output_type": "execute_result"
    }
   ],
   "source": [
    "type(full_audio_songs)"
   ]
  },
  {
   "cell_type": "code",
   "execution_count": 31,
   "id": "76b1e61c-5741-447e-8231-1a797da7805c",
   "metadata": {},
   "outputs": [],
   "source": [
    "# This columns are numerical\n",
    "    # danceability\tenergy\tkey\tloudness\tmode\tspeechiness\tacousticness\t...\tliveness\tvalence\ttempo"
   ]
  },
  {
   "cell_type": "code",
   "execution_count": 40,
   "id": "6beffe59-9480-4f52-852a-ccbab4a0a4d4",
   "metadata": {},
   "outputs": [
    {
     "ename": "ValueError",
     "evalue": "DataFrame constructor not properly called!",
     "output_type": "error",
     "traceback": [
      "\u001b[1;31m---------------------------------------------------------------------------\u001b[0m",
      "\u001b[1;31mValueError\u001b[0m                                Traceback (most recent call last)",
      "\u001b[1;32m~\\AppData\\Local\\Temp\\ipykernel_31292\\864515799.py\u001b[0m in \u001b[0;36m?\u001b[1;34m()\u001b[0m\n\u001b[1;32m----> 1\u001b[1;33m \u001b[0mfull_audio_songs\u001b[0m \u001b[1;33m=\u001b[0m \u001b[0mpd\u001b[0m\u001b[1;33m.\u001b[0m\u001b[0mDataFrame\u001b[0m\u001b[1;33m(\u001b[0m\u001b[0mfull_audio_songs\u001b[0m\u001b[1;33m)\u001b[0m\u001b[1;33m\u001b[0m\u001b[1;33m\u001b[0m\u001b[0m\n\u001b[0m",
      "\u001b[1;32mC:\\anaconda\\Lib\\site-packages\\pandas\\core\\frame.py\u001b[0m in \u001b[0;36m?\u001b[1;34m(self, data, index, columns, dtype, copy)\u001b[0m\n\u001b[0;32m    840\u001b[0m                 )\n\u001b[0;32m    841\u001b[0m         \u001b[1;31m# For data is scalar\u001b[0m\u001b[1;33m\u001b[0m\u001b[1;33m\u001b[0m\u001b[0m\n\u001b[0;32m    842\u001b[0m         \u001b[1;32melse\u001b[0m\u001b[1;33m:\u001b[0m\u001b[1;33m\u001b[0m\u001b[1;33m\u001b[0m\u001b[0m\n\u001b[0;32m    843\u001b[0m             \u001b[1;32mif\u001b[0m \u001b[0mindex\u001b[0m \u001b[1;32mis\u001b[0m \u001b[1;32mNone\u001b[0m \u001b[1;32mor\u001b[0m \u001b[0mcolumns\u001b[0m \u001b[1;32mis\u001b[0m \u001b[1;32mNone\u001b[0m\u001b[1;33m:\u001b[0m\u001b[1;33m\u001b[0m\u001b[1;33m\u001b[0m\u001b[0m\n\u001b[1;32m--> 844\u001b[1;33m                 \u001b[1;32mraise\u001b[0m \u001b[0mValueError\u001b[0m\u001b[1;33m(\u001b[0m\u001b[1;34m\"DataFrame constructor not properly called!\"\u001b[0m\u001b[1;33m)\u001b[0m\u001b[1;33m\u001b[0m\u001b[1;33m\u001b[0m\u001b[0m\n\u001b[0m\u001b[0;32m    845\u001b[0m \u001b[1;33m\u001b[0m\u001b[0m\n\u001b[0;32m    846\u001b[0m             \u001b[0mindex\u001b[0m \u001b[1;33m=\u001b[0m \u001b[0mensure_index\u001b[0m\u001b[1;33m(\u001b[0m\u001b[0mindex\u001b[0m\u001b[1;33m)\u001b[0m\u001b[1;33m\u001b[0m\u001b[1;33m\u001b[0m\u001b[0m\n\u001b[0;32m    847\u001b[0m             \u001b[0mcolumns\u001b[0m \u001b[1;33m=\u001b[0m \u001b[0mensure_index\u001b[0m\u001b[1;33m(\u001b[0m\u001b[0mcolumns\u001b[0m\u001b[1;33m)\u001b[0m\u001b[1;33m\u001b[0m\u001b[1;33m\u001b[0m\u001b[0m\n",
      "\u001b[1;31mValueError\u001b[0m: DataFrame constructor not properly called!"
     ]
    }
   ],
   "source": [
    "full_audio_songs = pd.DataFrame(full_audio_songs)"
   ]
  },
  {
   "cell_type": "code",
   "execution_count": 38,
   "id": "fb343418-e5ae-4b80-8080-0059bab27170",
   "metadata": {},
   "outputs": [],
   "source": [
    "# Drop all the categorical columns\n",
    "categorical_columns = ['track.name', 'name', 'song_id', 'type', 'id', 'uri', 'rack_href', 'analysis_url']"
   ]
  },
  {
   "cell_type": "code",
   "execution_count": 39,
   "id": "5950bc19-4fd5-46cc-98b7-b06af0b4f6aa",
   "metadata": {},
   "outputs": [
    {
     "ename": "AttributeError",
     "evalue": "'function' object has no attribute 'drop'",
     "output_type": "error",
     "traceback": [
      "\u001b[1;31m---------------------------------------------------------------------------\u001b[0m",
      "\u001b[1;31mAttributeError\u001b[0m                            Traceback (most recent call last)",
      "Cell \u001b[1;32mIn[39], line 1\u001b[0m\n\u001b[1;32m----> 1\u001b[0m full_audio_songs\u001b[38;5;241m.\u001b[39mdrop(columns \u001b[38;5;241m=\u001b[39m categorical_columns)\n\u001b[0;32m      2\u001b[0m full_audio_songs\u001b[38;5;241m.\u001b[39mhead()\n",
      "\u001b[1;31mAttributeError\u001b[0m: 'function' object has no attribute 'drop'"
     ]
    }
   ],
   "source": [
    "full_audio_songs.drop(columns = categorical_columns)\n",
    "full_audio_songs.head()"
   ]
  },
  {
   "cell_type": "code",
   "execution_count": null,
   "id": "6c012c87-6d2e-4fbe-8e2a-99c7e07bbf7a",
   "metadata": {},
   "outputs": [],
   "source": []
  },
  {
   "cell_type": "code",
   "execution_count": null,
   "id": "3b8a5134-461a-4ed6-b468-c7da6719a3d9",
   "metadata": {},
   "outputs": [],
   "source": []
  },
  {
   "cell_type": "code",
   "execution_count": null,
   "id": "7edb1fe9-415c-4a52-9eb9-f4427283f67f",
   "metadata": {},
   "outputs": [],
   "source": [
    "X_wine = pd.DataFrame(data[\"data\"], columns=data[\"feature_names\"])\n",
    "# _ = pd.Series(data[\"target\"]) # we do not need this for clustering\n",
    "\n",
    "# Comment the different variables of this dataset\n",
    "# Notice how they are all numerical - KMeans cannot deal with categorical variables\n",
    "X_wine.head()"
   ]
  },
  {
   "cell_type": "code",
   "execution_count": null,
   "id": "04d17166-01d0-4398-8b36-e703287a804b",
   "metadata": {},
   "outputs": [],
   "source": [
    "# The scale of \"proline\" is much higher than the scale of many other variables!\n",
    "# K-Means is a distance based algorithm: we need to scale / normalize:\n",
    "\n",
    "from sklearn.preprocessing import StandardScaler\n",
    "X_prep = StandardScaler().fit_transform(X_wine)\n",
    "\n",
    "# Now, all features will have the same weight.\n",
    "pd.DataFrame(X_prep,columns=X_wine.columns).head()"
   ]
  },
  {
   "cell_type": "code",
   "execution_count": null,
   "id": "e9e00804-19f8-40a2-ab8e-4a9178f99efa",
   "metadata": {},
   "outputs": [],
   "source": []
  },
  {
   "cell_type": "code",
   "execution_count": null,
   "id": "43870397-a4bc-4c4b-9e6c-cd31c5bd3956",
   "metadata": {},
   "outputs": [],
   "source": [
    "from sklearn.cluster import KMeans\n",
    "\n",
    "kmeans = KMeans(n_clusters=3, random_state=1234)\n",
    "kmeans.fit(X_prep)"
   ]
  },
  {
   "cell_type": "code",
   "execution_count": null,
   "id": "c928bb78-1b11-472c-92b5-d89c2c992c98",
   "metadata": {},
   "outputs": [],
   "source": []
  }
 ],
 "metadata": {
  "kernelspec": {
   "display_name": "Python 3 (ipykernel)",
   "language": "python",
   "name": "python3"
  },
  "language_info": {
   "codemirror_mode": {
    "name": "ipython",
    "version": 3
   },
   "file_extension": ".py",
   "mimetype": "text/x-python",
   "name": "python",
   "nbconvert_exporter": "python",
   "pygments_lexer": "ipython3",
   "version": "3.11.5"
  }
 },
 "nbformat": 4,
 "nbformat_minor": 5
}
